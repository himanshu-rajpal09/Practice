{
 "cells": [
  {
   "cell_type": "code",
   "execution_count": 1,
   "metadata": {},
   "outputs": [],
   "source": [
    "import numpy as np\n",
    "import pandas as pd\n",
    "import matplotlib.pyplot as plt\n",
    "get_ipython().run_line_magic('matplotlib', 'inline')\n",
    "from sklearn.preprocessing import *\n",
    "from sklearn.model_selection import *\n",
    "from sklearn.metrics import *\n",
    "import gc\n",
    "from xgboost import XGBClassifier\n",
    "from catboost import CatBoostClassifier\n",
    "from lightgbm import LGBMClassifier\n",
    "from sklearn.ensemble import VotingClassifier\n",
    "from sklearn.feature_selection import SelectFromModel\n",
    "import zipfile\n",
    "from sklearn import preprocessing\n",
    "from sklearn.ensemble import AdaBoostClassifier\n",
    "from sklearn.tree import DecisionTreeClassifier\n",
    "from sklearn.model_selection import KFold\n",
    "from sklearn.model_selection import StratifiedKFold"
   ]
  },
  {
   "cell_type": "code",
   "execution_count": 2,
   "metadata": {},
   "outputs": [],
   "source": [
    "ss = pd.read_csv('C:\\\\Users\\\\Himanshu\\\\Downloads\\\\sample_submission_iA3afxn.csv')\n",
    "zf = zipfile.ZipFile('C:\\\\Users\\\\Himanshu\\\\Downloads\\\\test.csv_yAFwdy2.zip') \n",
    "test = pd.read_csv(zf.open('test.csv'))\n",
    "zf1 = zipfile.ZipFile('C:\\\\Users\\\\Himanshu\\\\Downloads\\\\train.csv_VsW9EGx.zip')\n",
    "train = pd.read_csv(zf1.open('train.csv'))"
   ]
  },
  {
   "cell_type": "code",
   "execution_count": 3,
   "metadata": {},
   "outputs": [
    {
     "data": {
      "text/html": [
       "<div>\n",
       "<style scoped>\n",
       "    .dataframe tbody tr th:only-of-type {\n",
       "        vertical-align: middle;\n",
       "    }\n",
       "\n",
       "    .dataframe tbody tr th {\n",
       "        vertical-align: top;\n",
       "    }\n",
       "\n",
       "    .dataframe thead th {\n",
       "        text-align: right;\n",
       "    }\n",
       "</style>\n",
       "<table border=\"1\" class=\"dataframe\">\n",
       "  <thead>\n",
       "    <tr style=\"text-align: right;\">\n",
       "      <th></th>\n",
       "      <th>id</th>\n",
       "      <th>Gender</th>\n",
       "      <th>Age</th>\n",
       "      <th>Driving_License</th>\n",
       "      <th>Region_Code</th>\n",
       "      <th>Previously_Insured</th>\n",
       "      <th>Vehicle_Age</th>\n",
       "      <th>Vehicle_Damage</th>\n",
       "      <th>Annual_Premium</th>\n",
       "      <th>Policy_Sales_Channel</th>\n",
       "      <th>Vintage</th>\n",
       "      <th>Response</th>\n",
       "    </tr>\n",
       "  </thead>\n",
       "  <tbody>\n",
       "    <tr>\n",
       "      <th>0</th>\n",
       "      <td>1</td>\n",
       "      <td>Male</td>\n",
       "      <td>44</td>\n",
       "      <td>1</td>\n",
       "      <td>28.0</td>\n",
       "      <td>0</td>\n",
       "      <td>&gt; 2 Years</td>\n",
       "      <td>Yes</td>\n",
       "      <td>40454.0</td>\n",
       "      <td>26.0</td>\n",
       "      <td>217</td>\n",
       "      <td>1</td>\n",
       "    </tr>\n",
       "    <tr>\n",
       "      <th>1</th>\n",
       "      <td>2</td>\n",
       "      <td>Male</td>\n",
       "      <td>76</td>\n",
       "      <td>1</td>\n",
       "      <td>3.0</td>\n",
       "      <td>0</td>\n",
       "      <td>1-2 Year</td>\n",
       "      <td>No</td>\n",
       "      <td>33536.0</td>\n",
       "      <td>26.0</td>\n",
       "      <td>183</td>\n",
       "      <td>0</td>\n",
       "    </tr>\n",
       "    <tr>\n",
       "      <th>2</th>\n",
       "      <td>3</td>\n",
       "      <td>Male</td>\n",
       "      <td>47</td>\n",
       "      <td>1</td>\n",
       "      <td>28.0</td>\n",
       "      <td>0</td>\n",
       "      <td>&gt; 2 Years</td>\n",
       "      <td>Yes</td>\n",
       "      <td>38294.0</td>\n",
       "      <td>26.0</td>\n",
       "      <td>27</td>\n",
       "      <td>1</td>\n",
       "    </tr>\n",
       "    <tr>\n",
       "      <th>3</th>\n",
       "      <td>4</td>\n",
       "      <td>Male</td>\n",
       "      <td>21</td>\n",
       "      <td>1</td>\n",
       "      <td>11.0</td>\n",
       "      <td>1</td>\n",
       "      <td>&lt; 1 Year</td>\n",
       "      <td>No</td>\n",
       "      <td>28619.0</td>\n",
       "      <td>152.0</td>\n",
       "      <td>203</td>\n",
       "      <td>0</td>\n",
       "    </tr>\n",
       "    <tr>\n",
       "      <th>4</th>\n",
       "      <td>5</td>\n",
       "      <td>Female</td>\n",
       "      <td>29</td>\n",
       "      <td>1</td>\n",
       "      <td>41.0</td>\n",
       "      <td>1</td>\n",
       "      <td>&lt; 1 Year</td>\n",
       "      <td>No</td>\n",
       "      <td>27496.0</td>\n",
       "      <td>152.0</td>\n",
       "      <td>39</td>\n",
       "      <td>0</td>\n",
       "    </tr>\n",
       "    <tr>\n",
       "      <th>5</th>\n",
       "      <td>6</td>\n",
       "      <td>Female</td>\n",
       "      <td>24</td>\n",
       "      <td>1</td>\n",
       "      <td>33.0</td>\n",
       "      <td>0</td>\n",
       "      <td>&lt; 1 Year</td>\n",
       "      <td>Yes</td>\n",
       "      <td>2630.0</td>\n",
       "      <td>160.0</td>\n",
       "      <td>176</td>\n",
       "      <td>0</td>\n",
       "    </tr>\n",
       "    <tr>\n",
       "      <th>6</th>\n",
       "      <td>7</td>\n",
       "      <td>Male</td>\n",
       "      <td>23</td>\n",
       "      <td>1</td>\n",
       "      <td>11.0</td>\n",
       "      <td>0</td>\n",
       "      <td>&lt; 1 Year</td>\n",
       "      <td>Yes</td>\n",
       "      <td>23367.0</td>\n",
       "      <td>152.0</td>\n",
       "      <td>249</td>\n",
       "      <td>0</td>\n",
       "    </tr>\n",
       "    <tr>\n",
       "      <th>7</th>\n",
       "      <td>8</td>\n",
       "      <td>Female</td>\n",
       "      <td>56</td>\n",
       "      <td>1</td>\n",
       "      <td>28.0</td>\n",
       "      <td>0</td>\n",
       "      <td>1-2 Year</td>\n",
       "      <td>Yes</td>\n",
       "      <td>32031.0</td>\n",
       "      <td>26.0</td>\n",
       "      <td>72</td>\n",
       "      <td>1</td>\n",
       "    </tr>\n",
       "    <tr>\n",
       "      <th>8</th>\n",
       "      <td>9</td>\n",
       "      <td>Female</td>\n",
       "      <td>24</td>\n",
       "      <td>1</td>\n",
       "      <td>3.0</td>\n",
       "      <td>1</td>\n",
       "      <td>&lt; 1 Year</td>\n",
       "      <td>No</td>\n",
       "      <td>27619.0</td>\n",
       "      <td>152.0</td>\n",
       "      <td>28</td>\n",
       "      <td>0</td>\n",
       "    </tr>\n",
       "    <tr>\n",
       "      <th>9</th>\n",
       "      <td>10</td>\n",
       "      <td>Female</td>\n",
       "      <td>32</td>\n",
       "      <td>1</td>\n",
       "      <td>6.0</td>\n",
       "      <td>1</td>\n",
       "      <td>&lt; 1 Year</td>\n",
       "      <td>No</td>\n",
       "      <td>28771.0</td>\n",
       "      <td>152.0</td>\n",
       "      <td>80</td>\n",
       "      <td>0</td>\n",
       "    </tr>\n",
       "  </tbody>\n",
       "</table>\n",
       "</div>"
      ],
      "text/plain": [
       "   id  Gender  Age  Driving_License  Region_Code  Previously_Insured  \\\n",
       "0   1    Male   44                1         28.0                   0   \n",
       "1   2    Male   76                1          3.0                   0   \n",
       "2   3    Male   47                1         28.0                   0   \n",
       "3   4    Male   21                1         11.0                   1   \n",
       "4   5  Female   29                1         41.0                   1   \n",
       "5   6  Female   24                1         33.0                   0   \n",
       "6   7    Male   23                1         11.0                   0   \n",
       "7   8  Female   56                1         28.0                   0   \n",
       "8   9  Female   24                1          3.0                   1   \n",
       "9  10  Female   32                1          6.0                   1   \n",
       "\n",
       "  Vehicle_Age Vehicle_Damage  Annual_Premium  Policy_Sales_Channel  Vintage  \\\n",
       "0   > 2 Years            Yes         40454.0                  26.0      217   \n",
       "1    1-2 Year             No         33536.0                  26.0      183   \n",
       "2   > 2 Years            Yes         38294.0                  26.0       27   \n",
       "3    < 1 Year             No         28619.0                 152.0      203   \n",
       "4    < 1 Year             No         27496.0                 152.0       39   \n",
       "5    < 1 Year            Yes          2630.0                 160.0      176   \n",
       "6    < 1 Year            Yes         23367.0                 152.0      249   \n",
       "7    1-2 Year            Yes         32031.0                  26.0       72   \n",
       "8    < 1 Year             No         27619.0                 152.0       28   \n",
       "9    < 1 Year             No         28771.0                 152.0       80   \n",
       "\n",
       "   Response  \n",
       "0         1  \n",
       "1         0  \n",
       "2         1  \n",
       "3         0  \n",
       "4         0  \n",
       "5         0  \n",
       "6         0  \n",
       "7         1  \n",
       "8         0  \n",
       "9         0  "
      ]
     },
     "execution_count": 3,
     "metadata": {},
     "output_type": "execute_result"
    }
   ],
   "source": [
    "train.head(10)"
   ]
  },
  {
   "cell_type": "code",
   "execution_count": 4,
   "metadata": {},
   "outputs": [
    {
     "data": {
      "text/html": [
       "<div>\n",
       "<style scoped>\n",
       "    .dataframe tbody tr th:only-of-type {\n",
       "        vertical-align: middle;\n",
       "    }\n",
       "\n",
       "    .dataframe tbody tr th {\n",
       "        vertical-align: top;\n",
       "    }\n",
       "\n",
       "    .dataframe thead th {\n",
       "        text-align: right;\n",
       "    }\n",
       "</style>\n",
       "<table border=\"1\" class=\"dataframe\">\n",
       "  <thead>\n",
       "    <tr style=\"text-align: right;\">\n",
       "      <th></th>\n",
       "      <th>id</th>\n",
       "      <th>Gender</th>\n",
       "      <th>Age</th>\n",
       "      <th>Driving_License</th>\n",
       "      <th>Region_Code</th>\n",
       "      <th>Previously_Insured</th>\n",
       "      <th>Vehicle_Age</th>\n",
       "      <th>Vehicle_Damage</th>\n",
       "      <th>Annual_Premium</th>\n",
       "      <th>Policy_Sales_Channel</th>\n",
       "      <th>Vintage</th>\n",
       "    </tr>\n",
       "  </thead>\n",
       "  <tbody>\n",
       "    <tr>\n",
       "      <th>0</th>\n",
       "      <td>381110</td>\n",
       "      <td>Male</td>\n",
       "      <td>25</td>\n",
       "      <td>1</td>\n",
       "      <td>11.0</td>\n",
       "      <td>1</td>\n",
       "      <td>&lt; 1 Year</td>\n",
       "      <td>No</td>\n",
       "      <td>35786.0</td>\n",
       "      <td>152.0</td>\n",
       "      <td>53</td>\n",
       "    </tr>\n",
       "    <tr>\n",
       "      <th>1</th>\n",
       "      <td>381111</td>\n",
       "      <td>Male</td>\n",
       "      <td>40</td>\n",
       "      <td>1</td>\n",
       "      <td>28.0</td>\n",
       "      <td>0</td>\n",
       "      <td>1-2 Year</td>\n",
       "      <td>Yes</td>\n",
       "      <td>33762.0</td>\n",
       "      <td>7.0</td>\n",
       "      <td>111</td>\n",
       "    </tr>\n",
       "    <tr>\n",
       "      <th>2</th>\n",
       "      <td>381112</td>\n",
       "      <td>Male</td>\n",
       "      <td>47</td>\n",
       "      <td>1</td>\n",
       "      <td>28.0</td>\n",
       "      <td>0</td>\n",
       "      <td>1-2 Year</td>\n",
       "      <td>Yes</td>\n",
       "      <td>40050.0</td>\n",
       "      <td>124.0</td>\n",
       "      <td>199</td>\n",
       "    </tr>\n",
       "    <tr>\n",
       "      <th>3</th>\n",
       "      <td>381113</td>\n",
       "      <td>Male</td>\n",
       "      <td>24</td>\n",
       "      <td>1</td>\n",
       "      <td>27.0</td>\n",
       "      <td>1</td>\n",
       "      <td>&lt; 1 Year</td>\n",
       "      <td>Yes</td>\n",
       "      <td>37356.0</td>\n",
       "      <td>152.0</td>\n",
       "      <td>187</td>\n",
       "    </tr>\n",
       "    <tr>\n",
       "      <th>4</th>\n",
       "      <td>381114</td>\n",
       "      <td>Male</td>\n",
       "      <td>27</td>\n",
       "      <td>1</td>\n",
       "      <td>28.0</td>\n",
       "      <td>1</td>\n",
       "      <td>&lt; 1 Year</td>\n",
       "      <td>No</td>\n",
       "      <td>59097.0</td>\n",
       "      <td>152.0</td>\n",
       "      <td>297</td>\n",
       "    </tr>\n",
       "  </tbody>\n",
       "</table>\n",
       "</div>"
      ],
      "text/plain": [
       "       id Gender  Age  Driving_License  Region_Code  Previously_Insured  \\\n",
       "0  381110   Male   25                1         11.0                   1   \n",
       "1  381111   Male   40                1         28.0                   0   \n",
       "2  381112   Male   47                1         28.0                   0   \n",
       "3  381113   Male   24                1         27.0                   1   \n",
       "4  381114   Male   27                1         28.0                   1   \n",
       "\n",
       "  Vehicle_Age Vehicle_Damage  Annual_Premium  Policy_Sales_Channel  Vintage  \n",
       "0    < 1 Year             No         35786.0                 152.0       53  \n",
       "1    1-2 Year            Yes         33762.0                   7.0      111  \n",
       "2    1-2 Year            Yes         40050.0                 124.0      199  \n",
       "3    < 1 Year            Yes         37356.0                 152.0      187  \n",
       "4    < 1 Year             No         59097.0                 152.0      297  "
      ]
     },
     "execution_count": 4,
     "metadata": {},
     "output_type": "execute_result"
    }
   ],
   "source": [
    "test.head()"
   ]
  },
  {
   "cell_type": "code",
   "execution_count": 5,
   "metadata": {},
   "outputs": [
    {
     "data": {
      "text/plain": [
       "id                      0\n",
       "Gender                  0\n",
       "Age                     0\n",
       "Driving_License         0\n",
       "Region_Code             0\n",
       "Previously_Insured      0\n",
       "Vehicle_Age             0\n",
       "Vehicle_Damage          0\n",
       "Annual_Premium          0\n",
       "Policy_Sales_Channel    0\n",
       "Vintage                 0\n",
       "Response                0\n",
       "dtype: int64"
      ]
     },
     "execution_count": 5,
     "metadata": {},
     "output_type": "execute_result"
    }
   ],
   "source": [
    "train.isnull().sum()"
   ]
  },
  {
   "cell_type": "code",
   "execution_count": 6,
   "metadata": {},
   "outputs": [
    {
     "data": {
      "text/plain": [
       "id                      0\n",
       "Gender                  0\n",
       "Age                     0\n",
       "Driving_License         0\n",
       "Region_Code             0\n",
       "Previously_Insured      0\n",
       "Vehicle_Age             0\n",
       "Vehicle_Damage          0\n",
       "Annual_Premium          0\n",
       "Policy_Sales_Channel    0\n",
       "Vintage                 0\n",
       "dtype: int64"
      ]
     },
     "execution_count": 6,
     "metadata": {},
     "output_type": "execute_result"
    }
   ],
   "source": [
    "test.isnull().sum()"
   ]
  },
  {
   "cell_type": "code",
   "execution_count": 7,
   "metadata": {},
   "outputs": [
    {
     "data": {
      "text/plain": [
       "(381109, 12)"
      ]
     },
     "execution_count": 7,
     "metadata": {},
     "output_type": "execute_result"
    }
   ],
   "source": [
    "train.shape"
   ]
  },
  {
   "cell_type": "code",
   "execution_count": 8,
   "metadata": {},
   "outputs": [
    {
     "data": {
      "text/plain": [
       "(127037, 11)"
      ]
     },
     "execution_count": 8,
     "metadata": {},
     "output_type": "execute_result"
    }
   ],
   "source": [
    "test.shape"
   ]
  },
  {
   "cell_type": "code",
   "execution_count": 9,
   "metadata": {},
   "outputs": [],
   "source": [
    "train.drop_duplicates(keep=\"first\", inplace=True)\n",
    "test.drop_duplicates(keep=\"first\", inplace=True)"
   ]
  },
  {
   "cell_type": "code",
   "execution_count": 10,
   "metadata": {},
   "outputs": [
    {
     "data": {
      "text/plain": [
       "(381109, 12)"
      ]
     },
     "execution_count": 10,
     "metadata": {},
     "output_type": "execute_result"
    }
   ],
   "source": [
    "train.shape"
   ]
  },
  {
   "cell_type": "code",
   "execution_count": 11,
   "metadata": {},
   "outputs": [
    {
     "data": {
      "text/plain": [
       "(127037, 11)"
      ]
     },
     "execution_count": 11,
     "metadata": {},
     "output_type": "execute_result"
    }
   ],
   "source": [
    "test.shape"
   ]
  },
  {
   "cell_type": "code",
   "execution_count": 12,
   "metadata": {},
   "outputs": [
    {
     "data": {
      "text/html": [
       "<div>\n",
       "<style scoped>\n",
       "    .dataframe tbody tr th:only-of-type {\n",
       "        vertical-align: middle;\n",
       "    }\n",
       "\n",
       "    .dataframe tbody tr th {\n",
       "        vertical-align: top;\n",
       "    }\n",
       "\n",
       "    .dataframe thead th {\n",
       "        text-align: right;\n",
       "    }\n",
       "</style>\n",
       "<table border=\"1\" class=\"dataframe\">\n",
       "  <thead>\n",
       "    <tr style=\"text-align: right;\">\n",
       "      <th></th>\n",
       "      <th>id</th>\n",
       "      <th>Age</th>\n",
       "      <th>Driving_License</th>\n",
       "      <th>Region_Code</th>\n",
       "      <th>Previously_Insured</th>\n",
       "      <th>Annual_Premium</th>\n",
       "      <th>Policy_Sales_Channel</th>\n",
       "      <th>Vintage</th>\n",
       "      <th>Response</th>\n",
       "    </tr>\n",
       "  </thead>\n",
       "  <tbody>\n",
       "    <tr>\n",
       "      <th>count</th>\n",
       "      <td>381109.000000</td>\n",
       "      <td>381109.000000</td>\n",
       "      <td>381109.000000</td>\n",
       "      <td>381109.000000</td>\n",
       "      <td>381109.000000</td>\n",
       "      <td>381109.000000</td>\n",
       "      <td>381109.000000</td>\n",
       "      <td>381109.000000</td>\n",
       "      <td>381109.000000</td>\n",
       "    </tr>\n",
       "    <tr>\n",
       "      <th>mean</th>\n",
       "      <td>190555.000000</td>\n",
       "      <td>38.822584</td>\n",
       "      <td>0.997869</td>\n",
       "      <td>26.388807</td>\n",
       "      <td>0.458210</td>\n",
       "      <td>30564.389581</td>\n",
       "      <td>112.034295</td>\n",
       "      <td>154.347397</td>\n",
       "      <td>0.122563</td>\n",
       "    </tr>\n",
       "    <tr>\n",
       "      <th>std</th>\n",
       "      <td>110016.836208</td>\n",
       "      <td>15.511611</td>\n",
       "      <td>0.046110</td>\n",
       "      <td>13.229888</td>\n",
       "      <td>0.498251</td>\n",
       "      <td>17213.155057</td>\n",
       "      <td>54.203995</td>\n",
       "      <td>83.671304</td>\n",
       "      <td>0.327936</td>\n",
       "    </tr>\n",
       "    <tr>\n",
       "      <th>min</th>\n",
       "      <td>1.000000</td>\n",
       "      <td>20.000000</td>\n",
       "      <td>0.000000</td>\n",
       "      <td>0.000000</td>\n",
       "      <td>0.000000</td>\n",
       "      <td>2630.000000</td>\n",
       "      <td>1.000000</td>\n",
       "      <td>10.000000</td>\n",
       "      <td>0.000000</td>\n",
       "    </tr>\n",
       "    <tr>\n",
       "      <th>25%</th>\n",
       "      <td>95278.000000</td>\n",
       "      <td>25.000000</td>\n",
       "      <td>1.000000</td>\n",
       "      <td>15.000000</td>\n",
       "      <td>0.000000</td>\n",
       "      <td>24405.000000</td>\n",
       "      <td>29.000000</td>\n",
       "      <td>82.000000</td>\n",
       "      <td>0.000000</td>\n",
       "    </tr>\n",
       "    <tr>\n",
       "      <th>50%</th>\n",
       "      <td>190555.000000</td>\n",
       "      <td>36.000000</td>\n",
       "      <td>1.000000</td>\n",
       "      <td>28.000000</td>\n",
       "      <td>0.000000</td>\n",
       "      <td>31669.000000</td>\n",
       "      <td>133.000000</td>\n",
       "      <td>154.000000</td>\n",
       "      <td>0.000000</td>\n",
       "    </tr>\n",
       "    <tr>\n",
       "      <th>75%</th>\n",
       "      <td>285832.000000</td>\n",
       "      <td>49.000000</td>\n",
       "      <td>1.000000</td>\n",
       "      <td>35.000000</td>\n",
       "      <td>1.000000</td>\n",
       "      <td>39400.000000</td>\n",
       "      <td>152.000000</td>\n",
       "      <td>227.000000</td>\n",
       "      <td>0.000000</td>\n",
       "    </tr>\n",
       "    <tr>\n",
       "      <th>max</th>\n",
       "      <td>381109.000000</td>\n",
       "      <td>85.000000</td>\n",
       "      <td>1.000000</td>\n",
       "      <td>52.000000</td>\n",
       "      <td>1.000000</td>\n",
       "      <td>540165.000000</td>\n",
       "      <td>163.000000</td>\n",
       "      <td>299.000000</td>\n",
       "      <td>1.000000</td>\n",
       "    </tr>\n",
       "  </tbody>\n",
       "</table>\n",
       "</div>"
      ],
      "text/plain": [
       "                  id            Age  Driving_License    Region_Code  \\\n",
       "count  381109.000000  381109.000000    381109.000000  381109.000000   \n",
       "mean   190555.000000      38.822584         0.997869      26.388807   \n",
       "std    110016.836208      15.511611         0.046110      13.229888   \n",
       "min         1.000000      20.000000         0.000000       0.000000   \n",
       "25%     95278.000000      25.000000         1.000000      15.000000   \n",
       "50%    190555.000000      36.000000         1.000000      28.000000   \n",
       "75%    285832.000000      49.000000         1.000000      35.000000   \n",
       "max    381109.000000      85.000000         1.000000      52.000000   \n",
       "\n",
       "       Previously_Insured  Annual_Premium  Policy_Sales_Channel  \\\n",
       "count       381109.000000   381109.000000         381109.000000   \n",
       "mean             0.458210    30564.389581            112.034295   \n",
       "std              0.498251    17213.155057             54.203995   \n",
       "min              0.000000     2630.000000              1.000000   \n",
       "25%              0.000000    24405.000000             29.000000   \n",
       "50%              0.000000    31669.000000            133.000000   \n",
       "75%              1.000000    39400.000000            152.000000   \n",
       "max              1.000000   540165.000000            163.000000   \n",
       "\n",
       "             Vintage       Response  \n",
       "count  381109.000000  381109.000000  \n",
       "mean      154.347397       0.122563  \n",
       "std        83.671304       0.327936  \n",
       "min        10.000000       0.000000  \n",
       "25%        82.000000       0.000000  \n",
       "50%       154.000000       0.000000  \n",
       "75%       227.000000       0.000000  \n",
       "max       299.000000       1.000000  "
      ]
     },
     "execution_count": 12,
     "metadata": {},
     "output_type": "execute_result"
    }
   ],
   "source": [
    "train.describe()"
   ]
  },
  {
   "cell_type": "code",
   "execution_count": 13,
   "metadata": {},
   "outputs": [
    {
     "data": {
      "text/plain": [
       "id                        int64\n",
       "Gender                   object\n",
       "Age                       int64\n",
       "Driving_License           int64\n",
       "Region_Code             float64\n",
       "Previously_Insured        int64\n",
       "Vehicle_Age              object\n",
       "Vehicle_Damage           object\n",
       "Annual_Premium          float64\n",
       "Policy_Sales_Channel    float64\n",
       "Vintage                   int64\n",
       "Response                  int64\n",
       "dtype: object"
      ]
     },
     "execution_count": 13,
     "metadata": {},
     "output_type": "execute_result"
    }
   ],
   "source": [
    "train.dtypes"
   ]
  },
  {
   "cell_type": "code",
   "execution_count": 14,
   "metadata": {},
   "outputs": [
    {
     "data": {
      "text/plain": [
       "id                        int64\n",
       "Gender                   object\n",
       "Age                       int64\n",
       "Driving_License           int64\n",
       "Region_Code             float64\n",
       "Previously_Insured        int64\n",
       "Vehicle_Age              object\n",
       "Vehicle_Damage           object\n",
       "Annual_Premium          float64\n",
       "Policy_Sales_Channel    float64\n",
       "Vintage                   int64\n",
       "dtype: object"
      ]
     },
     "execution_count": 14,
     "metadata": {},
     "output_type": "execute_result"
    }
   ],
   "source": [
    "test.dtypes"
   ]
  },
  {
   "cell_type": "code",
   "execution_count": 15,
   "metadata": {
    "scrolled": true
   },
   "outputs": [
    {
     "name": "stdout",
     "output_type": "stream",
     "text": [
      "No of Unique Values in id Column are : 381109\n",
      "Actual Unique Values in id Column are : [     1      2      3 ... 381107 381108 381109]\n",
      "NULL Values :\n",
      "0\n",
      "Value Counts :\n",
      "2047      1\n",
      "295621    1\n",
      "84604     1\n",
      "82557     1\n",
      "88702     1\n",
      "         ..\n",
      "107934    1\n",
      "109983    1\n",
      "21920     1\n",
      "23969     1\n",
      "2049      1\n",
      "Name: id, Length: 381109, dtype: int64\n",
      "\n",
      "No of Unique Values in Gender Column are : 2\n",
      "Actual Unique Values in Gender Column are : ['Female' 'Male']\n",
      "NULL Values :\n",
      "0\n",
      "Value Counts :\n",
      "Male      206089\n",
      "Female    175020\n",
      "Name: Gender, dtype: int64\n",
      "\n",
      "No of Unique Values in Age Column are : 66\n",
      "Actual Unique Values in Age Column are : [20 21 22 23 24 25 26 27 28 29 30 31 32 33 34 35 36 37 38 39 40 41 42 43\n",
      " 44 45 46 47 48 49 50 51 52 53 54 55 56 57 58 59 60 61 62 63 64 65 66 67\n",
      " 68 69 70 71 72 73 74 75 76 77 78 79 80 81 82 83 84 85]\n",
      "NULL Values :\n",
      "0\n",
      "Value Counts :\n",
      "24    25960\n",
      "23    24256\n",
      "22    20964\n",
      "25    20636\n",
      "21    16457\n",
      "      ...  \n",
      "81       56\n",
      "82       29\n",
      "83       22\n",
      "84       11\n",
      "85       11\n",
      "Name: Age, Length: 66, dtype: int64\n",
      "\n",
      "No of Unique Values in Driving_License Column are : 2\n",
      "Actual Unique Values in Driving_License Column are : [0 1]\n",
      "NULL Values :\n",
      "0\n",
      "Value Counts :\n",
      "1    380297\n",
      "0       812\n",
      "Name: Driving_License, dtype: int64\n",
      "\n",
      "No of Unique Values in Region_Code Column are : 53\n",
      "Actual Unique Values in Region_Code Column are : [ 0.  1.  2.  3.  4.  5.  6.  7.  8.  9. 10. 11. 12. 13. 14. 15. 16. 17.\n",
      " 18. 19. 20. 21. 22. 23. 24. 25. 26. 27. 28. 29. 30. 31. 32. 33. 34. 35.\n",
      " 36. 37. 38. 39. 40. 41. 42. 43. 44. 45. 46. 47. 48. 49. 50. 51. 52.]\n",
      "NULL Values :\n",
      "0\n",
      "Value Counts :\n",
      "28.0    106415\n",
      "8.0      33877\n",
      "46.0     19749\n",
      "41.0     18263\n",
      "15.0     13308\n",
      "30.0     12191\n",
      "29.0     11065\n",
      "50.0     10243\n",
      "3.0       9251\n",
      "11.0      9232\n",
      "36.0      8797\n",
      "33.0      7654\n",
      "47.0      7436\n",
      "35.0      6942\n",
      "6.0       6280\n",
      "45.0      5605\n",
      "37.0      5501\n",
      "18.0      5153\n",
      "48.0      4681\n",
      "14.0      4678\n",
      "39.0      4644\n",
      "10.0      4374\n",
      "21.0      4266\n",
      "2.0       4038\n",
      "13.0      4036\n",
      "7.0       3279\n",
      "12.0      3198\n",
      "9.0       3101\n",
      "27.0      2823\n",
      "32.0      2787\n",
      "43.0      2639\n",
      "17.0      2617\n",
      "26.0      2587\n",
      "25.0      2503\n",
      "24.0      2415\n",
      "38.0      2026\n",
      "0.0       2021\n",
      "16.0      2007\n",
      "31.0      1960\n",
      "23.0      1960\n",
      "20.0      1935\n",
      "49.0      1832\n",
      "4.0       1801\n",
      "34.0      1664\n",
      "19.0      1535\n",
      "22.0      1309\n",
      "40.0      1295\n",
      "5.0       1279\n",
      "1.0       1008\n",
      "44.0       808\n",
      "42.0       591\n",
      "52.0       267\n",
      "51.0       183\n",
      "Name: Region_Code, dtype: int64\n",
      "\n",
      "No of Unique Values in Previously_Insured Column are : 2\n",
      "Actual Unique Values in Previously_Insured Column are : [0 1]\n",
      "NULL Values :\n",
      "0\n",
      "Value Counts :\n",
      "0    206481\n",
      "1    174628\n",
      "Name: Previously_Insured, dtype: int64\n",
      "\n",
      "No of Unique Values in Vehicle_Age Column are : 3\n",
      "Actual Unique Values in Vehicle_Age Column are : ['1-2 Year' '< 1 Year' '> 2 Years']\n",
      "NULL Values :\n",
      "0\n",
      "Value Counts :\n",
      "1-2 Year     200316\n",
      "< 1 Year     164786\n",
      "> 2 Years     16007\n",
      "Name: Vehicle_Age, dtype: int64\n",
      "\n",
      "No of Unique Values in Vehicle_Damage Column are : 2\n",
      "Actual Unique Values in Vehicle_Damage Column are : ['No' 'Yes']\n",
      "NULL Values :\n",
      "0\n",
      "Value Counts :\n",
      "Yes    192413\n",
      "No     188696\n",
      "Name: Vehicle_Damage, dtype: int64\n",
      "\n",
      "No of Unique Values in Annual_Premium Column are : 48838\n",
      "Actual Unique Values in Annual_Premium Column are : [  2630.   6098.   7670. ... 495106. 508073. 540165.]\n",
      "NULL Values :\n",
      "0\n",
      "Value Counts :\n",
      "2630.0     64877\n",
      "69856.0      140\n",
      "39008.0       41\n",
      "38287.0       38\n",
      "45179.0       38\n",
      "           ...  \n",
      "62326.0        1\n",
      "59733.0        1\n",
      "55934.0        1\n",
      "75387.0        1\n",
      "53346.0        1\n",
      "Name: Annual_Premium, Length: 48838, dtype: int64\n",
      "\n",
      "No of Unique Values in Policy_Sales_Channel Column are : 155\n",
      "Actual Unique Values in Policy_Sales_Channel Column are : [  1.   2.   3.   4.   6.   7.   8.   9.  10.  11.  12.  13.  14.  15.\n",
      "  16.  17.  18.  19.  20.  21.  22.  23.  24.  25.  26.  27.  28.  29.\n",
      "  30.  31.  32.  33.  34.  35.  36.  37.  38.  39.  40.  41.  42.  43.\n",
      "  44.  45.  46.  47.  48.  49.  50.  51.  52.  53.  54.  55.  56.  57.\n",
      "  58.  59.  60.  61.  62.  63.  64.  65.  66.  67.  68.  69.  70.  71.\n",
      "  73.  74.  75.  76.  78.  79.  80.  81.  82.  83.  84.  86.  87.  88.\n",
      "  89.  90.  91.  92.  93.  94.  95.  96.  97.  98.  99. 100. 101. 102.\n",
      " 103. 104. 105. 106. 107. 108. 109. 110. 111. 112. 113. 114. 115. 116.\n",
      " 117. 118. 119. 120. 121. 122. 123. 124. 125. 126. 127. 128. 129. 130.\n",
      " 131. 132. 133. 134. 135. 136. 137. 138. 139. 140. 143. 144. 145. 146.\n",
      " 147. 148. 149. 150. 151. 152. 153. 154. 155. 156. 157. 158. 159. 160.\n",
      " 163.]\n",
      "NULL Values :\n",
      "0\n",
      "Value Counts :\n",
      "152.0    134784\n",
      "26.0      79700\n",
      "124.0     73995\n",
      "160.0     21779\n",
      "156.0     10661\n",
      "          ...  \n",
      "144.0         1\n",
      "149.0         1\n",
      "84.0          1\n",
      "143.0         1\n",
      "43.0          1\n",
      "Name: Policy_Sales_Channel, Length: 155, dtype: int64\n",
      "\n",
      "No of Unique Values in Vintage Column are : 290\n",
      "Actual Unique Values in Vintage Column are : [ 10  11  12  13  14  15  16  17  18  19  20  21  22  23  24  25  26  27\n",
      "  28  29  30  31  32  33  34  35  36  37  38  39  40  41  42  43  44  45\n",
      "  46  47  48  49  50  51  52  53  54  55  56  57  58  59  60  61  62  63\n",
      "  64  65  66  67  68  69  70  71  72  73  74  75  76  77  78  79  80  81\n",
      "  82  83  84  85  86  87  88  89  90  91  92  93  94  95  96  97  98  99\n",
      " 100 101 102 103 104 105 106 107 108 109 110 111 112 113 114 115 116 117\n",
      " 118 119 120 121 122 123 124 125 126 127 128 129 130 131 132 133 134 135\n",
      " 136 137 138 139 140 141 142 143 144 145 146 147 148 149 150 151 152 153\n",
      " 154 155 156 157 158 159 160 161 162 163 164 165 166 167 168 169 170 171\n",
      " 172 173 174 175 176 177 178 179 180 181 182 183 184 185 186 187 188 189\n",
      " 190 191 192 193 194 195 196 197 198 199 200 201 202 203 204 205 206 207\n",
      " 208 209 210 211 212 213 214 215 216 217 218 219 220 221 222 223 224 225\n",
      " 226 227 228 229 230 231 232 233 234 235 236 237 238 239 240 241 242 243\n",
      " 244 245 246 247 248 249 250 251 252 253 254 255 256 257 258 259 260 261\n",
      " 262 263 264 265 266 267 268 269 270 271 272 273 274 275 276 277 278 279\n",
      " 280 281 282 283 284 285 286 287 288 289 290 291 292 293 294 295 296 297\n",
      " 298 299]\n",
      "NULL Values :\n",
      "0\n",
      "Value Counts :\n",
      "256    1418\n",
      "73     1410\n",
      "282    1397\n",
      "158    1394\n",
      "187    1392\n",
      "       ... \n",
      "205    1235\n",
      "89     1234\n",
      "32     1230\n",
      "224    1227\n",
      "277    1226\n",
      "Name: Vintage, Length: 290, dtype: int64\n",
      "\n",
      "No of Unique Values in Response Column are : 2\n",
      "Actual Unique Values in Response Column are : [0 1]\n",
      "NULL Values :\n",
      "0\n",
      "Value Counts :\n",
      "0    334399\n",
      "1     46710\n",
      "Name: Response, dtype: int64\n",
      "\n"
     ]
    }
   ],
   "source": [
    "def display_unique(data):\n",
    "    for column in data.columns :\n",
    "        \n",
    "        print(\"No of Unique Values in \"+column+\" Column are : \"+str(data[column].nunique()))\n",
    "        print(\"Actual Unique Values in \"+column+\" Column are : \"+str(data[column].sort_values(ascending=True,na_position='last').unique() ))\n",
    "        print(\"NULL Values :\")\n",
    "        print(data[ column ].isnull().sum())\n",
    "        print(\"Value Counts :\")\n",
    "        print(data[column].value_counts())\n",
    "        print(\"\")\n",
    "\n",
    "display_unique(train)"
   ]
  },
  {
   "cell_type": "code",
   "execution_count": 16,
   "metadata": {},
   "outputs": [],
   "source": [
    "from sklearn.preprocessing import LabelEncoder\n",
    "le = LabelEncoder()\n",
    "\n",
    "for col in ['Gender','Vehicle_Age','Vehicle_Damage','Age']:\n",
    "    train[col]= train[col].astype('str')\n",
    "    train[col]= le.fit_transform(train[col])"
   ]
  },
  {
   "cell_type": "code",
   "execution_count": 17,
   "metadata": {},
   "outputs": [],
   "source": [
    "from sklearn.preprocessing import LabelEncoder\n",
    "le = LabelEncoder()\n",
    "\n",
    "for col in ['Gender','Vehicle_Age','Vehicle_Damage','Age']:\n",
    "    test[col]= test[col].astype('str')\n",
    "    test[col]= le.fit_transform(test[col])"
   ]
  },
  {
   "cell_type": "code",
   "execution_count": 18,
   "metadata": {},
   "outputs": [
    {
     "data": {
      "text/plain": [
       "(0,)"
      ]
     },
     "execution_count": 18,
     "metadata": {},
     "output_type": "execute_result"
    }
   ],
   "source": [
    "np.intersect1d(train['id'], test['id']).shape"
   ]
  },
  {
   "cell_type": "code",
   "execution_count": 19,
   "metadata": {},
   "outputs": [
    {
     "data": {
      "text/plain": [
       "(380331, 12)"
      ]
     },
     "execution_count": 19,
     "metadata": {},
     "output_type": "execute_result"
    }
   ],
   "source": [
    "train = train[~(train.Annual_Premium>100000)]\n",
    "train.shape"
   ]
  },
  {
   "cell_type": "code",
   "execution_count": 20,
   "metadata": {},
   "outputs": [],
   "source": [
    "train['mean_Annual_Premium_per_Region']=train.groupby(['Region_Code'])['Annual_Premium'].transform('mean')\n",
    "train['mean_Annual_Premium_per_Policy']=train.groupby(['Policy_Sales_Channel'])['Annual_Premium'].transform('mean')\n",
    "\n",
    "\n",
    "test['mean_Annual_Premium_per_Region']=test.groupby(['Region_Code'])['Annual_Premium'].transform('mean')\n",
    "test['mean_Annual_Premium_per_Policy']=test.groupby(['Policy_Sales_Channel'])['Annual_Premium'].transform('mean')\n",
    "\n",
    "\n",
    "train['unique_Policy_per_Region']=train.groupby(['Policy_Sales_Channel'])['Region_Code'].transform('nunique')\n",
    "train['unique_Vintage_per_Region']=train.groupby(['Vintage'])['Region_Code'].transform('nunique')\n",
    "\n",
    "\n",
    "test['unique_Policy_per_Region']=test.groupby(['Policy_Sales_Channel'])['Region_Code'].transform('nunique')\n",
    "test['unique_Vintage_per_Region']=test.groupby(['Vintage'])['Region_Code'].transform('nunique')"
   ]
  },
  {
   "cell_type": "code",
   "execution_count": 21,
   "metadata": {},
   "outputs": [],
   "source": [
    "train['mean_RegionPolicy']=train.groupby(['Region_Code','Policy_Sales_Channel'])['Annual_Premium'].transform('mean')\n",
    "train['sum_RegionPolicy']=train.groupby(['Region_Code','Policy_Sales_Channel'])['Annual_Premium'].transform('sum')\n",
    "train['max_RegionPolicy']=train.groupby(['Region_Code','Policy_Sales_Channel'])['Annual_Premium'].transform('max')\n",
    "train['min_RegionPolicy']=train.groupby(['Region_Code','Policy_Sales_Channel'])['Annual_Premium'].transform('min')\n",
    "\n",
    "\n",
    "test['mean_RegionPolicy']=test.groupby(['Region_Code','Policy_Sales_Channel'])['Annual_Premium'].transform('mean')\n",
    "test['sum_RegionPolicy']=test.groupby(['Region_Code','Policy_Sales_Channel'])['Annual_Premium'].transform('sum')\n",
    "test['max_RegionPolicy']=test.groupby(['Region_Code','Policy_Sales_Channel'])['Annual_Premium'].transform('max')\n",
    "test['min_RegionPolicy']=test.groupby(['Region_Code','Policy_Sales_Channel'])['Annual_Premium'].transform('min')"
   ]
  },
  {
   "cell_type": "code",
   "execution_count": 22,
   "metadata": {},
   "outputs": [],
   "source": [
    "def f(x):\n",
    "    if (x['Driving_License'] == 1) & (x['Gender'] == 1):\n",
    "        return 1\n",
    "    elif (x['Driving_License']) == 1 & (x['Gender'] == 0):\n",
    "        return 2\n",
    "    elif (x['Driving_License']) == 0 & (x['Gender'] == 1):\n",
    "        return 3\n",
    "    elif (x['Driving_License']) == 0 & (x['Gender'] == 0):\n",
    "        return 4\n",
    "    else: \n",
    "        pass\n",
    "\n",
    "train['naya'] = train.apply(f, axis=1)\n",
    "test['naya'] = test.apply(f,axis =1)"
   ]
  },
  {
   "cell_type": "code",
   "execution_count": 23,
   "metadata": {},
   "outputs": [],
   "source": [
    "b = pd.DataFrame(test.id)"
   ]
  },
  {
   "cell_type": "code",
   "execution_count": 24,
   "metadata": {},
   "outputs": [],
   "source": [
    "x = train.drop(['Response','id'], axis = 'columns')\n",
    "y = pd.DataFrame(train['Response'])\n",
    "x_train,x_val,y_train,y_val=train_test_split(x,y,test_size=0.20,random_state=294)\n",
    "test = test.drop(['id'], axis = 'columns')"
   ]
  },
  {
   "cell_type": "code",
   "execution_count": 25,
   "metadata": {},
   "outputs": [],
   "source": [
    "cat_col=['Region_Code','Policy_Sales_Channel','Driving_License','Gender','Previously_Insured','Vehicle_Age','Vehicle_Damage']"
   ]
  },
  {
   "cell_type": "code",
   "execution_count": null,
   "metadata": {},
   "outputs": [],
   "source": []
  },
  {
   "cell_type": "code",
   "execution_count": 26,
   "metadata": {
    "scrolled": false
   },
   "outputs": [
    {
     "name": "stderr",
     "output_type": "stream",
     "text": [
      "C:\\Users\\Himanshu\\anaconda\\lib\\site-packages\\sklearn\\preprocessing\\_label.py:235: DataConversionWarning: A column-vector y was passed when a 1d array was expected. Please change the shape of y to (n_samples, ), for example using ravel().\n",
      "  y = column_or_1d(y, warn=True)\n",
      "C:\\Users\\Himanshu\\anaconda\\lib\\site-packages\\sklearn\\preprocessing\\_label.py:268: DataConversionWarning: A column-vector y was passed when a 1d array was expected. Please change the shape of y to (n_samples, ), for example using ravel().\n",
      "  y = column_or_1d(y, warn=True)\n",
      "C:\\Users\\Himanshu\\anaconda\\lib\\site-packages\\lightgbm\\basic.py:1295: UserWarning: categorical_feature in Dataset is overridden.\n",
      "New categorical_feature is ['Driving_License', 'Gender', 'Policy_Sales_Channel', 'Previously_Insured', 'Region_Code', 'Vehicle_Age', 'Vehicle_Damage']\n",
      "  'New categorical_feature is {}'.format(sorted(list(categorical_feature))))\n"
     ]
    },
    {
     "name": "stdout",
     "output_type": "stream",
     "text": [
      "Training until validation scores don't improve for 200 rounds\n",
      "[50]\tvalid_0's auc: 0.859081\tvalid_0's binary_logloss: 0.296112\n",
      "[100]\tvalid_0's auc: 0.859979\tvalid_0's binary_logloss: 0.275892\n",
      "[150]\tvalid_0's auc: 0.86053\tvalid_0's binary_logloss: 0.268371\n",
      "[200]\tvalid_0's auc: 0.860757\tvalid_0's binary_logloss: 0.265263\n",
      "[250]\tvalid_0's auc: 0.860857\tvalid_0's binary_logloss: 0.263994\n",
      "[300]\tvalid_0's auc: 0.86091\tvalid_0's binary_logloss: 0.263441\n",
      "[350]\tvalid_0's auc: 0.860942\tvalid_0's binary_logloss: 0.263194\n",
      "[400]\tvalid_0's auc: 0.860872\tvalid_0's binary_logloss: 0.263128\n",
      "[450]\tvalid_0's auc: 0.860833\tvalid_0's binary_logloss: 0.263115\n",
      "[500]\tvalid_0's auc: 0.860792\tvalid_0's binary_logloss: 0.263123\n",
      "[550]\tvalid_0's auc: 0.86076\tvalid_0's binary_logloss: 0.263139\n",
      "Early stopping, best iteration is:\n",
      "[355]\tvalid_0's auc: 0.860961\tvalid_0's binary_logloss: 0.263174\n",
      "1  err_lgm:  0.877556922753326\n"
     ]
    },
    {
     "name": "stderr",
     "output_type": "stream",
     "text": [
      "C:\\Users\\Himanshu\\anaconda\\lib\\site-packages\\sklearn\\preprocessing\\_label.py:235: DataConversionWarning: A column-vector y was passed when a 1d array was expected. Please change the shape of y to (n_samples, ), for example using ravel().\n",
      "  y = column_or_1d(y, warn=True)\n",
      "C:\\Users\\Himanshu\\anaconda\\lib\\site-packages\\sklearn\\preprocessing\\_label.py:268: DataConversionWarning: A column-vector y was passed when a 1d array was expected. Please change the shape of y to (n_samples, ), for example using ravel().\n",
      "  y = column_or_1d(y, warn=True)\n",
      "C:\\Users\\Himanshu\\anaconda\\lib\\site-packages\\lightgbm\\basic.py:1295: UserWarning: categorical_feature in Dataset is overridden.\n",
      "New categorical_feature is ['Driving_License', 'Gender', 'Policy_Sales_Channel', 'Previously_Insured', 'Region_Code', 'Vehicle_Age', 'Vehicle_Damage']\n",
      "  'New categorical_feature is {}'.format(sorted(list(categorical_feature))))\n"
     ]
    },
    {
     "name": "stdout",
     "output_type": "stream",
     "text": [
      "Training until validation scores don't improve for 200 rounds\n",
      "[50]\tvalid_0's auc: 0.853644\tvalid_0's binary_logloss: 0.297426\n",
      "[100]\tvalid_0's auc: 0.854995\tvalid_0's binary_logloss: 0.277525\n",
      "[150]\tvalid_0's auc: 0.855831\tvalid_0's binary_logloss: 0.27004\n",
      "[200]\tvalid_0's auc: 0.856231\tvalid_0's binary_logloss: 0.266921\n",
      "[250]\tvalid_0's auc: 0.856486\tvalid_0's binary_logloss: 0.265598\n",
      "[300]\tvalid_0's auc: 0.856623\tvalid_0's binary_logloss: 0.26501\n",
      "[350]\tvalid_0's auc: 0.856746\tvalid_0's binary_logloss: 0.264713\n",
      "[400]\tvalid_0's auc: 0.856798\tvalid_0's binary_logloss: 0.264598\n",
      "[450]\tvalid_0's auc: 0.85681\tvalid_0's binary_logloss: 0.264562\n",
      "[500]\tvalid_0's auc: 0.856812\tvalid_0's binary_logloss: 0.264558\n",
      "[550]\tvalid_0's auc: 0.856843\tvalid_0's binary_logloss: 0.264546\n",
      "[600]\tvalid_0's auc: 0.856807\tvalid_0's binary_logloss: 0.26457\n",
      "[650]\tvalid_0's auc: 0.856818\tvalid_0's binary_logloss: 0.264581\n",
      "[700]\tvalid_0's auc: 0.856889\tvalid_0's binary_logloss: 0.264557\n",
      "Early stopping, best iteration is:\n",
      "[545]\tvalid_0's auc: 0.856849\tvalid_0's binary_logloss: 0.264543\n",
      "2  err_lgm:  0.8778955117923908\n"
     ]
    },
    {
     "name": "stderr",
     "output_type": "stream",
     "text": [
      "C:\\Users\\Himanshu\\anaconda\\lib\\site-packages\\sklearn\\preprocessing\\_label.py:235: DataConversionWarning: A column-vector y was passed when a 1d array was expected. Please change the shape of y to (n_samples, ), for example using ravel().\n",
      "  y = column_or_1d(y, warn=True)\n",
      "C:\\Users\\Himanshu\\anaconda\\lib\\site-packages\\sklearn\\preprocessing\\_label.py:268: DataConversionWarning: A column-vector y was passed when a 1d array was expected. Please change the shape of y to (n_samples, ), for example using ravel().\n",
      "  y = column_or_1d(y, warn=True)\n",
      "C:\\Users\\Himanshu\\anaconda\\lib\\site-packages\\lightgbm\\basic.py:1295: UserWarning: categorical_feature in Dataset is overridden.\n",
      "New categorical_feature is ['Driving_License', 'Gender', 'Policy_Sales_Channel', 'Previously_Insured', 'Region_Code', 'Vehicle_Age', 'Vehicle_Damage']\n",
      "  'New categorical_feature is {}'.format(sorted(list(categorical_feature))))\n"
     ]
    },
    {
     "name": "stdout",
     "output_type": "stream",
     "text": [
      "Training until validation scores don't improve for 200 rounds\n",
      "[50]\tvalid_0's auc: 0.85692\tvalid_0's binary_logloss: 0.296772\n",
      "[100]\tvalid_0's auc: 0.858278\tvalid_0's binary_logloss: 0.276604\n",
      "[150]\tvalid_0's auc: 0.85907\tvalid_0's binary_logloss: 0.269019\n",
      "[200]\tvalid_0's auc: 0.859433\tvalid_0's binary_logloss: 0.265864\n",
      "[250]\tvalid_0's auc: 0.859572\tvalid_0's binary_logloss: 0.264581\n",
      "[300]\tvalid_0's auc: 0.859642\tvalid_0's binary_logloss: 0.264001\n",
      "[350]\tvalid_0's auc: 0.859707\tvalid_0's binary_logloss: 0.263696\n",
      "[400]\tvalid_0's auc: 0.859758\tvalid_0's binary_logloss: 0.26358\n",
      "[450]\tvalid_0's auc: 0.859792\tvalid_0's binary_logloss: 0.263518\n",
      "[500]\tvalid_0's auc: 0.859771\tvalid_0's binary_logloss: 0.263502\n",
      "[550]\tvalid_0's auc: 0.859777\tvalid_0's binary_logloss: 0.263474\n",
      "[600]\tvalid_0's auc: 0.859763\tvalid_0's binary_logloss: 0.263462\n",
      "[650]\tvalid_0's auc: 0.859766\tvalid_0's binary_logloss: 0.263449\n",
      "Early stopping, best iteration is:\n",
      "[479]\tvalid_0's auc: 0.859807\tvalid_0's binary_logloss: 0.263501\n",
      "3  err_lgm:  0.8780269765729761\n"
     ]
    },
    {
     "name": "stderr",
     "output_type": "stream",
     "text": [
      "C:\\Users\\Himanshu\\anaconda\\lib\\site-packages\\sklearn\\preprocessing\\_label.py:235: DataConversionWarning: A column-vector y was passed when a 1d array was expected. Please change the shape of y to (n_samples, ), for example using ravel().\n",
      "  y = column_or_1d(y, warn=True)\n",
      "C:\\Users\\Himanshu\\anaconda\\lib\\site-packages\\sklearn\\preprocessing\\_label.py:268: DataConversionWarning: A column-vector y was passed when a 1d array was expected. Please change the shape of y to (n_samples, ), for example using ravel().\n",
      "  y = column_or_1d(y, warn=True)\n",
      "C:\\Users\\Himanshu\\anaconda\\lib\\site-packages\\lightgbm\\basic.py:1295: UserWarning: categorical_feature in Dataset is overridden.\n",
      "New categorical_feature is ['Driving_License', 'Gender', 'Policy_Sales_Channel', 'Previously_Insured', 'Region_Code', 'Vehicle_Age', 'Vehicle_Damage']\n",
      "  'New categorical_feature is {}'.format(sorted(list(categorical_feature))))\n"
     ]
    },
    {
     "name": "stdout",
     "output_type": "stream",
     "text": [
      "Training until validation scores don't improve for 200 rounds\n",
      "[50]\tvalid_0's auc: 0.857655\tvalid_0's binary_logloss: 0.296351\n",
      "[100]\tvalid_0's auc: 0.859075\tvalid_0's binary_logloss: 0.275964\n",
      "[150]\tvalid_0's auc: 0.85986\tvalid_0's binary_logloss: 0.268251\n",
      "[200]\tvalid_0's auc: 0.860175\tvalid_0's binary_logloss: 0.264976\n",
      "[250]\tvalid_0's auc: 0.860294\tvalid_0's binary_logloss: 0.263591\n",
      "[300]\tvalid_0's auc: 0.860371\tvalid_0's binary_logloss: 0.262945\n",
      "[350]\tvalid_0's auc: 0.860338\tvalid_0's binary_logloss: 0.262655\n",
      "[400]\tvalid_0's auc: 0.860305\tvalid_0's binary_logloss: 0.262507\n",
      "[450]\tvalid_0's auc: 0.860252\tvalid_0's binary_logloss: 0.262453\n",
      "[500]\tvalid_0's auc: 0.860185\tvalid_0's binary_logloss: 0.262454\n",
      "Early stopping, best iteration is:\n",
      "[300]\tvalid_0's auc: 0.860371\tvalid_0's binary_logloss: 0.262945\n",
      "4  err_lgm:  0.8777640470118055\n"
     ]
    },
    {
     "name": "stderr",
     "output_type": "stream",
     "text": [
      "C:\\Users\\Himanshu\\anaconda\\lib\\site-packages\\sklearn\\preprocessing\\_label.py:235: DataConversionWarning: A column-vector y was passed when a 1d array was expected. Please change the shape of y to (n_samples, ), for example using ravel().\n",
      "  y = column_or_1d(y, warn=True)\n",
      "C:\\Users\\Himanshu\\anaconda\\lib\\site-packages\\sklearn\\preprocessing\\_label.py:268: DataConversionWarning: A column-vector y was passed when a 1d array was expected. Please change the shape of y to (n_samples, ), for example using ravel().\n",
      "  y = column_or_1d(y, warn=True)\n",
      "C:\\Users\\Himanshu\\anaconda\\lib\\site-packages\\lightgbm\\basic.py:1295: UserWarning: categorical_feature in Dataset is overridden.\n",
      "New categorical_feature is ['Driving_License', 'Gender', 'Policy_Sales_Channel', 'Previously_Insured', 'Region_Code', 'Vehicle_Age', 'Vehicle_Damage']\n",
      "  'New categorical_feature is {}'.format(sorted(list(categorical_feature))))\n"
     ]
    },
    {
     "name": "stdout",
     "output_type": "stream",
     "text": [
      "Training until validation scores don't improve for 200 rounds\n",
      "[50]\tvalid_0's auc: 0.859273\tvalid_0's binary_logloss: 0.296114\n",
      "[100]\tvalid_0's auc: 0.860324\tvalid_0's binary_logloss: 0.275912\n",
      "[150]\tvalid_0's auc: 0.860935\tvalid_0's binary_logloss: 0.268465\n",
      "[200]\tvalid_0's auc: 0.861156\tvalid_0's binary_logloss: 0.265439\n",
      "[250]\tvalid_0's auc: 0.861295\tvalid_0's binary_logloss: 0.264238\n",
      "[300]\tvalid_0's auc: 0.861282\tvalid_0's binary_logloss: 0.263779\n",
      "[350]\tvalid_0's auc: 0.861244\tvalid_0's binary_logloss: 0.263611\n",
      "[400]\tvalid_0's auc: 0.861235\tvalid_0's binary_logloss: 0.26355\n",
      "[450]\tvalid_0's auc: 0.861152\tvalid_0's binary_logloss: 0.263569\n",
      "Early stopping, best iteration is:\n",
      "[275]\tvalid_0's auc: 0.861343\tvalid_0's binary_logloss: 0.263948\n",
      "5  err_lgm:  0.8775537033628691\n"
     ]
    },
    {
     "name": "stderr",
     "output_type": "stream",
     "text": [
      "C:\\Users\\Himanshu\\anaconda\\lib\\site-packages\\sklearn\\preprocessing\\_label.py:235: DataConversionWarning: A column-vector y was passed when a 1d array was expected. Please change the shape of y to (n_samples, ), for example using ravel().\n",
      "  y = column_or_1d(y, warn=True)\n",
      "C:\\Users\\Himanshu\\anaconda\\lib\\site-packages\\sklearn\\preprocessing\\_label.py:268: DataConversionWarning: A column-vector y was passed when a 1d array was expected. Please change the shape of y to (n_samples, ), for example using ravel().\n",
      "  y = column_or_1d(y, warn=True)\n",
      "C:\\Users\\Himanshu\\anaconda\\lib\\site-packages\\lightgbm\\basic.py:1295: UserWarning: categorical_feature in Dataset is overridden.\n",
      "New categorical_feature is ['Driving_License', 'Gender', 'Policy_Sales_Channel', 'Previously_Insured', 'Region_Code', 'Vehicle_Age', 'Vehicle_Damage']\n",
      "  'New categorical_feature is {}'.format(sorted(list(categorical_feature))))\n"
     ]
    },
    {
     "name": "stdout",
     "output_type": "stream",
     "text": [
      "Training until validation scores don't improve for 200 rounds\n",
      "[50]\tvalid_0's auc: 0.856246\tvalid_0's binary_logloss: 0.296821\n",
      "[100]\tvalid_0's auc: 0.857752\tvalid_0's binary_logloss: 0.276613\n",
      "[150]\tvalid_0's auc: 0.858715\tvalid_0's binary_logloss: 0.268998\n",
      "[200]\tvalid_0's auc: 0.859054\tvalid_0's binary_logloss: 0.265844\n",
      "[250]\tvalid_0's auc: 0.859301\tvalid_0's binary_logloss: 0.264552\n",
      "[300]\tvalid_0's auc: 0.859373\tvalid_0's binary_logloss: 0.264025\n",
      "[350]\tvalid_0's auc: 0.859401\tvalid_0's binary_logloss: 0.263814\n",
      "[400]\tvalid_0's auc: 0.85943\tvalid_0's binary_logloss: 0.26375\n",
      "[450]\tvalid_0's auc: 0.859433\tvalid_0's binary_logloss: 0.263757\n",
      "[500]\tvalid_0's auc: 0.8594\tvalid_0's binary_logloss: 0.263778\n",
      "[550]\tvalid_0's auc: 0.859366\tvalid_0's binary_logloss: 0.26381\n",
      "[600]\tvalid_0's auc: 0.859357\tvalid_0's binary_logloss: 0.263843\n",
      "Early stopping, best iteration is:\n",
      "[406]\tvalid_0's auc: 0.859435\tvalid_0's binary_logloss: 0.263744\n",
      "6  err_lgm:  0.8772644808455815\n"
     ]
    },
    {
     "name": "stderr",
     "output_type": "stream",
     "text": [
      "C:\\Users\\Himanshu\\anaconda\\lib\\site-packages\\sklearn\\preprocessing\\_label.py:235: DataConversionWarning: A column-vector y was passed when a 1d array was expected. Please change the shape of y to (n_samples, ), for example using ravel().\n",
      "  y = column_or_1d(y, warn=True)\n",
      "C:\\Users\\Himanshu\\anaconda\\lib\\site-packages\\sklearn\\preprocessing\\_label.py:268: DataConversionWarning: A column-vector y was passed when a 1d array was expected. Please change the shape of y to (n_samples, ), for example using ravel().\n",
      "  y = column_or_1d(y, warn=True)\n",
      "C:\\Users\\Himanshu\\anaconda\\lib\\site-packages\\lightgbm\\basic.py:1295: UserWarning: categorical_feature in Dataset is overridden.\n",
      "New categorical_feature is ['Driving_License', 'Gender', 'Policy_Sales_Channel', 'Previously_Insured', 'Region_Code', 'Vehicle_Age', 'Vehicle_Damage']\n",
      "  'New categorical_feature is {}'.format(sorted(list(categorical_feature))))\n"
     ]
    },
    {
     "name": "stdout",
     "output_type": "stream",
     "text": [
      "Training until validation scores don't improve for 200 rounds\n",
      "[50]\tvalid_0's auc: 0.855905\tvalid_0's binary_logloss: 0.297014\n",
      "[100]\tvalid_0's auc: 0.856788\tvalid_0's binary_logloss: 0.277091\n",
      "[150]\tvalid_0's auc: 0.857267\tvalid_0's binary_logloss: 0.26967\n",
      "[200]\tvalid_0's auc: 0.857466\tvalid_0's binary_logloss: 0.266597\n",
      "[250]\tvalid_0's auc: 0.857599\tvalid_0's binary_logloss: 0.265339\n",
      "[300]\tvalid_0's auc: 0.857683\tvalid_0's binary_logloss: 0.264745\n",
      "[350]\tvalid_0's auc: 0.857712\tvalid_0's binary_logloss: 0.264457\n",
      "[400]\tvalid_0's auc: 0.857772\tvalid_0's binary_logloss: 0.264323\n",
      "[450]\tvalid_0's auc: 0.857752\tvalid_0's binary_logloss: 0.264288\n",
      "[500]\tvalid_0's auc: 0.857748\tvalid_0's binary_logloss: 0.264269\n",
      "[550]\tvalid_0's auc: 0.857737\tvalid_0's binary_logloss: 0.264254\n",
      "[600]\tvalid_0's auc: 0.857723\tvalid_0's binary_logloss: 0.264267\n",
      "Early stopping, best iteration is:\n",
      "[413]\tvalid_0's auc: 0.857781\tvalid_0's binary_logloss: 0.264305\n",
      "7  err_lgm:  0.8777377540556884\n"
     ]
    },
    {
     "name": "stderr",
     "output_type": "stream",
     "text": [
      "C:\\Users\\Himanshu\\anaconda\\lib\\site-packages\\sklearn\\preprocessing\\_label.py:235: DataConversionWarning: A column-vector y was passed when a 1d array was expected. Please change the shape of y to (n_samples, ), for example using ravel().\n",
      "  y = column_or_1d(y, warn=True)\n",
      "C:\\Users\\Himanshu\\anaconda\\lib\\site-packages\\sklearn\\preprocessing\\_label.py:268: DataConversionWarning: A column-vector y was passed when a 1d array was expected. Please change the shape of y to (n_samples, ), for example using ravel().\n",
      "  y = column_or_1d(y, warn=True)\n",
      "C:\\Users\\Himanshu\\anaconda\\lib\\site-packages\\lightgbm\\basic.py:1295: UserWarning: categorical_feature in Dataset is overridden.\n",
      "New categorical_feature is ['Driving_License', 'Gender', 'Policy_Sales_Channel', 'Previously_Insured', 'Region_Code', 'Vehicle_Age', 'Vehicle_Damage']\n",
      "  'New categorical_feature is {}'.format(sorted(list(categorical_feature))))\n"
     ]
    },
    {
     "name": "stdout",
     "output_type": "stream",
     "text": [
      "Training until validation scores don't improve for 200 rounds\n",
      "[50]\tvalid_0's auc: 0.859353\tvalid_0's binary_logloss: 0.296053\n",
      "[100]\tvalid_0's auc: 0.860566\tvalid_0's binary_logloss: 0.275691\n",
      "[150]\tvalid_0's auc: 0.861288\tvalid_0's binary_logloss: 0.268066\n",
      "[200]\tvalid_0's auc: 0.861534\tvalid_0's binary_logloss: 0.264893\n",
      "[250]\tvalid_0's auc: 0.861685\tvalid_0's binary_logloss: 0.263539\n",
      "[300]\tvalid_0's auc: 0.861785\tvalid_0's binary_logloss: 0.262906\n",
      "[350]\tvalid_0's auc: 0.861801\tvalid_0's binary_logloss: 0.262597\n",
      "[400]\tvalid_0's auc: 0.861827\tvalid_0's binary_logloss: 0.262456\n",
      "[450]\tvalid_0's auc: 0.861781\tvalid_0's binary_logloss: 0.262416\n",
      "[500]\tvalid_0's auc: 0.861739\tvalid_0's binary_logloss: 0.262392\n",
      "[550]\tvalid_0's auc: 0.861701\tvalid_0's binary_logloss: 0.262388\n",
      "[600]\tvalid_0's auc: 0.861691\tvalid_0's binary_logloss: 0.262388\n",
      "Early stopping, best iteration is:\n",
      "[406]\tvalid_0's auc: 0.861838\tvalid_0's binary_logloss: 0.262436\n",
      "8  err_lgm:  0.8777903399679226\n"
     ]
    },
    {
     "name": "stderr",
     "output_type": "stream",
     "text": [
      "C:\\Users\\Himanshu\\anaconda\\lib\\site-packages\\sklearn\\preprocessing\\_label.py:235: DataConversionWarning: A column-vector y was passed when a 1d array was expected. Please change the shape of y to (n_samples, ), for example using ravel().\n",
      "  y = column_or_1d(y, warn=True)\n",
      "C:\\Users\\Himanshu\\anaconda\\lib\\site-packages\\sklearn\\preprocessing\\_label.py:268: DataConversionWarning: A column-vector y was passed when a 1d array was expected. Please change the shape of y to (n_samples, ), for example using ravel().\n",
      "  y = column_or_1d(y, warn=True)\n",
      "C:\\Users\\Himanshu\\anaconda\\lib\\site-packages\\lightgbm\\basic.py:1295: UserWarning: categorical_feature in Dataset is overridden.\n",
      "New categorical_feature is ['Driving_License', 'Gender', 'Policy_Sales_Channel', 'Previously_Insured', 'Region_Code', 'Vehicle_Age', 'Vehicle_Damage']\n",
      "  'New categorical_feature is {}'.format(sorted(list(categorical_feature))))\n"
     ]
    },
    {
     "name": "stdout",
     "output_type": "stream",
     "text": [
      "Training until validation scores don't improve for 200 rounds\n",
      "[50]\tvalid_0's auc: 0.853079\tvalid_0's binary_logloss: 0.297491\n",
      "[100]\tvalid_0's auc: 0.854273\tvalid_0's binary_logloss: 0.277797\n",
      "[150]\tvalid_0's auc: 0.854763\tvalid_0's binary_logloss: 0.270604\n",
      "[200]\tvalid_0's auc: 0.855088\tvalid_0's binary_logloss: 0.267668\n",
      "[250]\tvalid_0's auc: 0.855241\tvalid_0's binary_logloss: 0.266506\n",
      "[300]\tvalid_0's auc: 0.855262\tvalid_0's binary_logloss: 0.266065\n",
      "[350]\tvalid_0's auc: 0.855297\tvalid_0's binary_logloss: 0.265876\n",
      "[400]\tvalid_0's auc: 0.8553\tvalid_0's binary_logloss: 0.265814\n",
      "[450]\tvalid_0's auc: 0.855286\tvalid_0's binary_logloss: 0.26581\n",
      "[500]\tvalid_0's auc: 0.855247\tvalid_0's binary_logloss: 0.265841\n",
      "[550]\tvalid_0's auc: 0.855224\tvalid_0's binary_logloss: 0.265879\n",
      "[600]\tvalid_0's auc: 0.855175\tvalid_0's binary_logloss: 0.265926\n",
      "Early stopping, best iteration is:\n",
      "[410]\tvalid_0's auc: 0.855326\tvalid_0's binary_logloss: 0.265794\n",
      "9  err_lgm:  0.8773170667578156\n"
     ]
    },
    {
     "name": "stderr",
     "output_type": "stream",
     "text": [
      "C:\\Users\\Himanshu\\anaconda\\lib\\site-packages\\sklearn\\preprocessing\\_label.py:235: DataConversionWarning: A column-vector y was passed when a 1d array was expected. Please change the shape of y to (n_samples, ), for example using ravel().\n",
      "  y = column_or_1d(y, warn=True)\n",
      "C:\\Users\\Himanshu\\anaconda\\lib\\site-packages\\sklearn\\preprocessing\\_label.py:268: DataConversionWarning: A column-vector y was passed when a 1d array was expected. Please change the shape of y to (n_samples, ), for example using ravel().\n",
      "  y = column_or_1d(y, warn=True)\n",
      "C:\\Users\\Himanshu\\anaconda\\lib\\site-packages\\lightgbm\\basic.py:1295: UserWarning: categorical_feature in Dataset is overridden.\n",
      "New categorical_feature is ['Driving_License', 'Gender', 'Policy_Sales_Channel', 'Previously_Insured', 'Region_Code', 'Vehicle_Age', 'Vehicle_Damage']\n",
      "  'New categorical_feature is {}'.format(sorted(list(categorical_feature))))\n"
     ]
    },
    {
     "name": "stdout",
     "output_type": "stream",
     "text": [
      "Training until validation scores don't improve for 200 rounds\n",
      "[50]\tvalid_0's auc: 0.854294\tvalid_0's binary_logloss: 0.297555\n",
      "[100]\tvalid_0's auc: 0.855358\tvalid_0's binary_logloss: 0.277784\n",
      "[150]\tvalid_0's auc: 0.855964\tvalid_0's binary_logloss: 0.27037\n",
      "[200]\tvalid_0's auc: 0.856125\tvalid_0's binary_logloss: 0.26732\n",
      "[250]\tvalid_0's auc: 0.856272\tvalid_0's binary_logloss: 0.266038\n",
      "[300]\tvalid_0's auc: 0.85629\tvalid_0's binary_logloss: 0.265457\n",
      "[350]\tvalid_0's auc: 0.856296\tvalid_0's binary_logloss: 0.265128\n",
      "[400]\tvalid_0's auc: 0.85629\tvalid_0's binary_logloss: 0.264977\n",
      "[450]\tvalid_0's auc: 0.856265\tvalid_0's binary_logloss: 0.26491\n",
      "[500]\tvalid_0's auc: 0.856253\tvalid_0's binary_logloss: 0.264887\n",
      "Early stopping, best iteration is:\n",
      "[326]\tvalid_0's auc: 0.856336\tvalid_0's binary_logloss: 0.265257\n",
      "10  err_lgm:  0.8778166329240397\n",
      "Wall time: 3min 20s\n"
     ]
    },
    {
     "data": {
      "text/plain": [
       "0.5032972458040571"
      ]
     },
     "execution_count": 26,
     "metadata": {},
     "output_type": "execute_result"
    }
   ],
   "source": [
    "%%time\n",
    "err = [] \n",
    "y_pred_tot_lgm = np.zeros((len(test), 2))\n",
    "\n",
    "\n",
    "fold = StratifiedKFold(n_splits=10, shuffle=True, random_state=2020)\n",
    "i = 1\n",
    "\n",
    "for train_index, test_index in fold.split(x, y):\n",
    "    x_train, x_val = x.iloc[train_index], x.iloc[test_index]\n",
    "    y_train, y_val = y.iloc[train_index], y.iloc[test_index]\n",
    "    m = LGBMClassifier(n_estimators=6000, \n",
    "                       learning_rate=0.02,\n",
    "                       colsample_bytree=0.5, \n",
    "                       reg_alpha=2, \n",
    "                       reg_lambda=2,\n",
    "                      )\n",
    "    m.fit(x_train,y_train, \n",
    "          eval_set=[(x_val, y_val)], \n",
    "          verbose=50,\n",
    "          eval_metric = 'auc',\n",
    "          categorical_feature= cat_col,\n",
    "          early_stopping_rounds = 200)\n",
    "    pred_y = m.predict(x_val)\n",
    "    print(i, \" err_lgm: \", accuracy_score(y_val,pred_y))\n",
    "    err.append(roc_auc_score(y_val,pred_y))\n",
    "    y_pred_tot_lgm+= m.predict_proba(test)\n",
    "    i = i + 1\n",
    "y_pred_tot_lgm=y_pred_tot_lgm/10\n",
    "sum(err)/10"
   ]
  },
  {
   "cell_type": "code",
   "execution_count": 27,
   "metadata": {},
   "outputs": [],
   "source": [
    "a = pd.DataFrame(m.predict_proba(test))\n",
    "a.drop(0,axis = 'columns', inplace = True)\n",
    "a.rename(columns= {1:'Resp'}, inplace = True)\n"
   ]
  },
  {
   "cell_type": "code",
   "execution_count": 28,
   "metadata": {},
   "outputs": [
    {
     "name": "stderr",
     "output_type": "stream",
     "text": [
      "C:\\Users\\Himanshu\\anaconda\\lib\\site-packages\\sklearn\\preprocessing\\_label.py:235: DataConversionWarning: A column-vector y was passed when a 1d array was expected. Please change the shape of y to (n_samples, ), for example using ravel().\n",
      "  y = column_or_1d(y, warn=True)\n",
      "C:\\Users\\Himanshu\\anaconda\\lib\\site-packages\\sklearn\\preprocessing\\_label.py:268: DataConversionWarning: A column-vector y was passed when a 1d array was expected. Please change the shape of y to (n_samples, ), for example using ravel().\n",
      "  y = column_or_1d(y, warn=True)\n"
     ]
    },
    {
     "name": "stdout",
     "output_type": "stream",
     "text": [
      "[23:16:12] WARNING: C:\\Users\\Administrator\\workspace\\xgboost-win64_release_1.2.0\\src\\learner.cc:516: \n",
      "Parameters: { verbose } might not be used.\n",
      "\n",
      "  This may not be accurate due to some parameters are only used in language bindings but\n",
      "  passed down to XGBoost core.  Or some parameters are not used but slip through this\n",
      "  verification. Please open an issue if you find above cases.\n",
      "\n",
      "\n",
      "[0]\tvalidation_0-auc:0.84138\n",
      "Will train until validation_0-auc hasn't improved in 200 rounds.\n",
      "[100]\tvalidation_0-auc:0.85712\n",
      "[200]\tvalidation_0-auc:0.85934\n",
      "[300]\tvalidation_0-auc:0.86003\n",
      "[400]\tvalidation_0-auc:0.86024\n",
      "[500]\tvalidation_0-auc:0.86017\n",
      "Stopping. Best iteration:\n",
      "[374]\tvalidation_0-auc:0.86033\n",
      "\n",
      "1  err_cat:  0.8774780459588789\n"
     ]
    },
    {
     "name": "stderr",
     "output_type": "stream",
     "text": [
      "C:\\Users\\Himanshu\\anaconda\\lib\\site-packages\\sklearn\\preprocessing\\_label.py:235: DataConversionWarning: A column-vector y was passed when a 1d array was expected. Please change the shape of y to (n_samples, ), for example using ravel().\n",
      "  y = column_or_1d(y, warn=True)\n",
      "C:\\Users\\Himanshu\\anaconda\\lib\\site-packages\\sklearn\\preprocessing\\_label.py:268: DataConversionWarning: A column-vector y was passed when a 1d array was expected. Please change the shape of y to (n_samples, ), for example using ravel().\n",
      "  y = column_or_1d(y, warn=True)\n"
     ]
    },
    {
     "name": "stdout",
     "output_type": "stream",
     "text": [
      "[23:18:34] WARNING: C:\\Users\\Administrator\\workspace\\xgboost-win64_release_1.2.0\\src\\learner.cc:516: \n",
      "Parameters: { verbose } might not be used.\n",
      "\n",
      "  This may not be accurate due to some parameters are only used in language bindings but\n",
      "  passed down to XGBoost core.  Or some parameters are not used but slip through this\n",
      "  verification. Please open an issue if you find above cases.\n",
      "\n",
      "\n",
      "[0]\tvalidation_0-auc:0.83799\n",
      "Will train until validation_0-auc hasn't improved in 200 rounds.\n",
      "[100]\tvalidation_0-auc:0.85385\n",
      "[200]\tvalidation_0-auc:0.85676\n",
      "[300]\tvalidation_0-auc:0.85736\n",
      "[400]\tvalidation_0-auc:0.85744\n",
      "[500]\tvalidation_0-auc:0.85735\n",
      "Stopping. Best iteration:\n",
      "[354]\tvalidation_0-auc:0.85757\n",
      "\n",
      "2  err_cat:  0.8775799963189861\n"
     ]
    },
    {
     "name": "stderr",
     "output_type": "stream",
     "text": [
      "C:\\Users\\Himanshu\\anaconda\\lib\\site-packages\\sklearn\\preprocessing\\_label.py:235: DataConversionWarning: A column-vector y was passed when a 1d array was expected. Please change the shape of y to (n_samples, ), for example using ravel().\n",
      "  y = column_or_1d(y, warn=True)\n",
      "C:\\Users\\Himanshu\\anaconda\\lib\\site-packages\\sklearn\\preprocessing\\_label.py:268: DataConversionWarning: A column-vector y was passed when a 1d array was expected. Please change the shape of y to (n_samples, ), for example using ravel().\n",
      "  y = column_or_1d(y, warn=True)\n"
     ]
    },
    {
     "name": "stdout",
     "output_type": "stream",
     "text": [
      "[23:20:52] WARNING: C:\\Users\\Administrator\\workspace\\xgboost-win64_release_1.2.0\\src\\learner.cc:516: \n",
      "Parameters: { verbose } might not be used.\n",
      "\n",
      "  This may not be accurate due to some parameters are only used in language bindings but\n",
      "  passed down to XGBoost core.  Or some parameters are not used but slip through this\n",
      "  verification. Please open an issue if you find above cases.\n",
      "\n",
      "\n",
      "[0]\tvalidation_0-auc:0.83793\n",
      "Will train until validation_0-auc hasn't improved in 200 rounds.\n",
      "[100]\tvalidation_0-auc:0.85611\n",
      "[200]\tvalidation_0-auc:0.85870\n",
      "[300]\tvalidation_0-auc:0.85940\n",
      "[400]\tvalidation_0-auc:0.85943\n",
      "[500]\tvalidation_0-auc:0.85933\n",
      "Stopping. Best iteration:\n",
      "[314]\tvalidation_0-auc:0.85949\n",
      "\n",
      "3  err_cat:  0.8776325822312202\n"
     ]
    },
    {
     "name": "stderr",
     "output_type": "stream",
     "text": [
      "C:\\Users\\Himanshu\\anaconda\\lib\\site-packages\\sklearn\\preprocessing\\_label.py:235: DataConversionWarning: A column-vector y was passed when a 1d array was expected. Please change the shape of y to (n_samples, ), for example using ravel().\n",
      "  y = column_or_1d(y, warn=True)\n",
      "C:\\Users\\Himanshu\\anaconda\\lib\\site-packages\\sklearn\\preprocessing\\_label.py:268: DataConversionWarning: A column-vector y was passed when a 1d array was expected. Please change the shape of y to (n_samples, ), for example using ravel().\n",
      "  y = column_or_1d(y, warn=True)\n"
     ]
    },
    {
     "name": "stdout",
     "output_type": "stream",
     "text": [
      "[23:22:57] WARNING: C:\\Users\\Administrator\\workspace\\xgboost-win64_release_1.2.0\\src\\learner.cc:516: \n",
      "Parameters: { verbose } might not be used.\n",
      "\n",
      "  This may not be accurate due to some parameters are only used in language bindings but\n",
      "  passed down to XGBoost core.  Or some parameters are not used but slip through this\n",
      "  verification. Please open an issue if you find above cases.\n",
      "\n",
      "\n",
      "[0]\tvalidation_0-auc:0.84051\n",
      "Will train until validation_0-auc hasn't improved in 200 rounds.\n",
      "[100]\tvalidation_0-auc:0.85678\n",
      "[200]\tvalidation_0-auc:0.85905\n",
      "[300]\tvalidation_0-auc:0.85942\n",
      "[400]\tvalidation_0-auc:0.85961\n",
      "[500]\tvalidation_0-auc:0.85942\n",
      "Stopping. Best iteration:\n",
      "[397]\tvalidation_0-auc:0.85963\n",
      "\n",
      "4  err_cat:  0.8776325822312202\n"
     ]
    },
    {
     "name": "stderr",
     "output_type": "stream",
     "text": [
      "C:\\Users\\Himanshu\\anaconda\\lib\\site-packages\\sklearn\\preprocessing\\_label.py:235: DataConversionWarning: A column-vector y was passed when a 1d array was expected. Please change the shape of y to (n_samples, ), for example using ravel().\n",
      "  y = column_or_1d(y, warn=True)\n",
      "C:\\Users\\Himanshu\\anaconda\\lib\\site-packages\\sklearn\\preprocessing\\_label.py:268: DataConversionWarning: A column-vector y was passed when a 1d array was expected. Please change the shape of y to (n_samples, ), for example using ravel().\n",
      "  y = column_or_1d(y, warn=True)\n"
     ]
    },
    {
     "name": "stdout",
     "output_type": "stream",
     "text": [
      "[23:25:21] WARNING: C:\\Users\\Administrator\\workspace\\xgboost-win64_release_1.2.0\\src\\learner.cc:516: \n",
      "Parameters: { verbose } might not be used.\n",
      "\n",
      "  This may not be accurate due to some parameters are only used in language bindings but\n",
      "  passed down to XGBoost core.  Or some parameters are not used but slip through this\n",
      "  verification. Please open an issue if you find above cases.\n",
      "\n",
      "\n",
      "[0]\tvalidation_0-auc:0.83889\n",
      "Will train until validation_0-auc hasn't improved in 200 rounds.\n",
      "[100]\tvalidation_0-auc:0.85810\n",
      "[200]\tvalidation_0-auc:0.86027\n",
      "[300]\tvalidation_0-auc:0.86054\n",
      "[400]\tvalidation_0-auc:0.86059\n",
      "[500]\tvalidation_0-auc:0.86048\n",
      "Stopping. Best iteration:\n",
      "[345]\tvalidation_0-auc:0.86075\n",
      "\n",
      "5  err_cat:  0.8776588751873373\n"
     ]
    },
    {
     "name": "stderr",
     "output_type": "stream",
     "text": [
      "C:\\Users\\Himanshu\\anaconda\\lib\\site-packages\\sklearn\\preprocessing\\_label.py:235: DataConversionWarning: A column-vector y was passed when a 1d array was expected. Please change the shape of y to (n_samples, ), for example using ravel().\n",
      "  y = column_or_1d(y, warn=True)\n",
      "C:\\Users\\Himanshu\\anaconda\\lib\\site-packages\\sklearn\\preprocessing\\_label.py:268: DataConversionWarning: A column-vector y was passed when a 1d array was expected. Please change the shape of y to (n_samples, ), for example using ravel().\n",
      "  y = column_or_1d(y, warn=True)\n"
     ]
    },
    {
     "name": "stdout",
     "output_type": "stream",
     "text": [
      "[23:27:38] WARNING: C:\\Users\\Administrator\\workspace\\xgboost-win64_release_1.2.0\\src\\learner.cc:516: \n",
      "Parameters: { verbose } might not be used.\n",
      "\n",
      "  This may not be accurate due to some parameters are only used in language bindings but\n",
      "  passed down to XGBoost core.  Or some parameters are not used but slip through this\n",
      "  verification. Please open an issue if you find above cases.\n",
      "\n",
      "\n",
      "[0]\tvalidation_0-auc:0.83961\n",
      "Will train until validation_0-auc hasn't improved in 200 rounds.\n",
      "[100]\tvalidation_0-auc:0.85593\n",
      "[200]\tvalidation_0-auc:0.85836\n",
      "[300]\tvalidation_0-auc:0.85892\n",
      "[400]\tvalidation_0-auc:0.85911\n",
      "[500]\tvalidation_0-auc:0.85893\n",
      "[600]\tvalidation_0-auc:0.85890\n",
      "Stopping. Best iteration:\n",
      "[415]\tvalidation_0-auc:0.85915\n",
      "\n",
      "6  err_cat:  0.8773433597139326\n"
     ]
    },
    {
     "name": "stderr",
     "output_type": "stream",
     "text": [
      "C:\\Users\\Himanshu\\anaconda\\lib\\site-packages\\sklearn\\preprocessing\\_label.py:235: DataConversionWarning: A column-vector y was passed when a 1d array was expected. Please change the shape of y to (n_samples, ), for example using ravel().\n",
      "  y = column_or_1d(y, warn=True)\n",
      "C:\\Users\\Himanshu\\anaconda\\lib\\site-packages\\sklearn\\preprocessing\\_label.py:268: DataConversionWarning: A column-vector y was passed when a 1d array was expected. Please change the shape of y to (n_samples, ), for example using ravel().\n",
      "  y = column_or_1d(y, warn=True)\n"
     ]
    },
    {
     "name": "stdout",
     "output_type": "stream",
     "text": [
      "[23:30:10] WARNING: C:\\Users\\Administrator\\workspace\\xgboost-win64_release_1.2.0\\src\\learner.cc:516: \n",
      "Parameters: { verbose } might not be used.\n",
      "\n",
      "  This may not be accurate due to some parameters are only used in language bindings but\n",
      "  passed down to XGBoost core.  Or some parameters are not used but slip through this\n",
      "  verification. Please open an issue if you find above cases.\n",
      "\n",
      "\n",
      "[0]\tvalidation_0-auc:0.83902\n",
      "Will train until validation_0-auc hasn't improved in 200 rounds.\n",
      "[100]\tvalidation_0-auc:0.85531\n",
      "[200]\tvalidation_0-auc:0.85786\n",
      "[300]\tvalidation_0-auc:0.85821\n",
      "[400]\tvalidation_0-auc:0.85826\n",
      "[500]\tvalidation_0-auc:0.85806\n",
      "Stopping. Best iteration:\n",
      "[356]\tvalidation_0-auc:0.85842\n",
      "\n",
      "7  err_cat:  0.8776062892751032\n"
     ]
    },
    {
     "name": "stderr",
     "output_type": "stream",
     "text": [
      "C:\\Users\\Himanshu\\anaconda\\lib\\site-packages\\sklearn\\preprocessing\\_label.py:235: DataConversionWarning: A column-vector y was passed when a 1d array was expected. Please change the shape of y to (n_samples, ), for example using ravel().\n",
      "  y = column_or_1d(y, warn=True)\n",
      "C:\\Users\\Himanshu\\anaconda\\lib\\site-packages\\sklearn\\preprocessing\\_label.py:268: DataConversionWarning: A column-vector y was passed when a 1d array was expected. Please change the shape of y to (n_samples, ), for example using ravel().\n",
      "  y = column_or_1d(y, warn=True)\n"
     ]
    },
    {
     "name": "stdout",
     "output_type": "stream",
     "text": [
      "[23:32:28] WARNING: C:\\Users\\Administrator\\workspace\\xgboost-win64_release_1.2.0\\src\\learner.cc:516: \n",
      "Parameters: { verbose } might not be used.\n",
      "\n",
      "  This may not be accurate due to some parameters are only used in language bindings but\n",
      "  passed down to XGBoost core.  Or some parameters are not used but slip through this\n",
      "  verification. Please open an issue if you find above cases.\n",
      "\n",
      "\n",
      "[0]\tvalidation_0-auc:0.84129\n",
      "Will train until validation_0-auc hasn't improved in 200 rounds.\n",
      "[100]\tvalidation_0-auc:0.85853\n",
      "[200]\tvalidation_0-auc:0.86042\n",
      "[300]\tvalidation_0-auc:0.86093\n",
      "[400]\tvalidation_0-auc:0.86108\n",
      "[500]\tvalidation_0-auc:0.86123\n",
      "[600]\tvalidation_0-auc:0.86113\n",
      "Stopping. Best iteration:\n",
      "[481]\tvalidation_0-auc:0.86129\n",
      "\n",
      "8  err_cat:  0.8773959456261667\n"
     ]
    },
    {
     "name": "stderr",
     "output_type": "stream",
     "text": [
      "C:\\Users\\Himanshu\\anaconda\\lib\\site-packages\\sklearn\\preprocessing\\_label.py:235: DataConversionWarning: A column-vector y was passed when a 1d array was expected. Please change the shape of y to (n_samples, ), for example using ravel().\n",
      "  y = column_or_1d(y, warn=True)\n",
      "C:\\Users\\Himanshu\\anaconda\\lib\\site-packages\\sklearn\\preprocessing\\_label.py:268: DataConversionWarning: A column-vector y was passed when a 1d array was expected. Please change the shape of y to (n_samples, ), for example using ravel().\n",
      "  y = column_or_1d(y, warn=True)\n"
     ]
    },
    {
     "name": "stdout",
     "output_type": "stream",
     "text": [
      "[23:35:21] WARNING: C:\\Users\\Administrator\\workspace\\xgboost-win64_release_1.2.0\\src\\learner.cc:516: \n",
      "Parameters: { verbose } might not be used.\n",
      "\n",
      "  This may not be accurate due to some parameters are only used in language bindings but\n",
      "  passed down to XGBoost core.  Or some parameters are not used but slip through this\n",
      "  verification. Please open an issue if you find above cases.\n",
      "\n",
      "\n",
      "[0]\tvalidation_0-auc:0.83801\n",
      "Will train until validation_0-auc hasn't improved in 200 rounds.\n",
      "[100]\tvalidation_0-auc:0.85287\n",
      "[200]\tvalidation_0-auc:0.85476\n",
      "[300]\tvalidation_0-auc:0.85528\n",
      "[400]\tvalidation_0-auc:0.85513\n",
      "[500]\tvalidation_0-auc:0.85515\n",
      "Stopping. Best iteration:\n",
      "[303]\tvalidation_0-auc:0.85528\n",
      "\n",
      "9  err_cat:  0.8773696526700497\n"
     ]
    },
    {
     "name": "stderr",
     "output_type": "stream",
     "text": [
      "C:\\Users\\Himanshu\\anaconda\\lib\\site-packages\\sklearn\\preprocessing\\_label.py:235: DataConversionWarning: A column-vector y was passed when a 1d array was expected. Please change the shape of y to (n_samples, ), for example using ravel().\n",
      "  y = column_or_1d(y, warn=True)\n",
      "C:\\Users\\Himanshu\\anaconda\\lib\\site-packages\\sklearn\\preprocessing\\_label.py:268: DataConversionWarning: A column-vector y was passed when a 1d array was expected. Please change the shape of y to (n_samples, ), for example using ravel().\n",
      "  y = column_or_1d(y, warn=True)\n"
     ]
    },
    {
     "name": "stdout",
     "output_type": "stream",
     "text": [
      "[23:37:27] WARNING: C:\\Users\\Administrator\\workspace\\xgboost-win64_release_1.2.0\\src\\learner.cc:516: \n",
      "Parameters: { verbose } might not be used.\n",
      "\n",
      "  This may not be accurate due to some parameters are only used in language bindings but\n",
      "  passed down to XGBoost core.  Or some parameters are not used but slip through this\n",
      "  verification. Please open an issue if you find above cases.\n",
      "\n",
      "\n",
      "[0]\tvalidation_0-auc:0.83743\n",
      "Will train until validation_0-auc hasn't improved in 200 rounds.\n",
      "[100]\tvalidation_0-auc:0.85366\n",
      "[200]\tvalidation_0-auc:0.85578\n",
      "[300]\tvalidation_0-auc:0.85614\n",
      "[400]\tvalidation_0-auc:0.85602\n",
      "Stopping. Best iteration:\n",
      "[274]\tvalidation_0-auc:0.85624\n",
      "\n",
      "10  err_cat:  0.8777114610995714\n",
      "Wall time: 23min 12s\n"
     ]
    },
    {
     "data": {
      "text/plain": [
       "0.5026590395661776"
      ]
     },
     "execution_count": 28,
     "metadata": {},
     "output_type": "execute_result"
    }
   ],
   "source": [
    "%%time\n",
    "err = [] \n",
    "y_pred_tot_cat = np.zeros((len(test), 2))\n",
    "\n",
    "\n",
    "fold = StratifiedKFold(n_splits=10, shuffle=True, random_state=2020)\n",
    "i = 1\n",
    "\n",
    "for train_index, test_index in fold.split(x, y):\n",
    "    x_train, x_val = x.iloc[train_index], x.iloc[test_index]\n",
    "    y_train, y_val = y.iloc[train_index], y.iloc[test_index]\n",
    "    m1 = XGBClassifier(learning_rate=0.05, \n",
    "                      max_depth=5,\n",
    "                      n_estimators=1000, \n",
    "                      objective='binary:logistic', \n",
    "                      subsample=0.9, \n",
    "                      verbose = False, \n",
    "                      colsample_bytree=0.9, \n",
    "                      min_child_weight=2,\n",
    "                      seed = 420)\n",
    "    m1.fit(x_train,y_train, \n",
    "          eval_set=[(x_val, y_val)], \n",
    "          verbose=100,\n",
    "           eval_metric = 'auc', \n",
    "          early_stopping_rounds = 200)\n",
    "    pred_y = m1.predict(x_val)\n",
    "    print(i, \" err_cat: \", accuracy_score(y_val,pred_y))\n",
    "    err.append(roc_auc_score(y_val,pred_y))\n",
    "    y_pred_tot_cat+= m1.predict_proba(test)\n",
    "    i = i + 1\n",
    "y_pred_tot_cat=y_pred_tot_cat/10\n",
    "sum(err)/10"
   ]
  },
  {
   "cell_type": "code",
   "execution_count": 29,
   "metadata": {},
   "outputs": [
    {
     "name": "stdout",
     "output_type": "stream",
     "text": [
      "0:\tlearn: 0.5726220\ttotal: 174ms\tremaining: 2m 53s\n",
      "50:\tlearn: 0.4233264\ttotal: 4.43s\tremaining: 1m 22s\n",
      "100:\tlearn: 0.4206135\ttotal: 8.89s\tremaining: 1m 19s\n",
      "150:\tlearn: 0.4189959\ttotal: 13.3s\tremaining: 1m 15s\n",
      "200:\tlearn: 0.4176576\ttotal: 17.7s\tremaining: 1m 10s\n",
      "250:\tlearn: 0.4166056\ttotal: 22.1s\tremaining: 1m 5s\n",
      "300:\tlearn: 0.4155845\ttotal: 26.5s\tremaining: 1m 1s\n",
      "350:\tlearn: 0.4145844\ttotal: 31.7s\tremaining: 58.7s\n",
      "400:\tlearn: 0.4136805\ttotal: 36.5s\tremaining: 54.5s\n",
      "450:\tlearn: 0.4129094\ttotal: 41s\tremaining: 49.9s\n",
      "500:\tlearn: 0.4121574\ttotal: 45.4s\tremaining: 45.2s\n",
      "550:\tlearn: 0.4113792\ttotal: 49.8s\tremaining: 40.6s\n",
      "600:\tlearn: 0.4106931\ttotal: 54.2s\tremaining: 36s\n",
      "650:\tlearn: 0.4101152\ttotal: 58.7s\tremaining: 31.4s\n",
      "700:\tlearn: 0.4094107\ttotal: 1m 3s\tremaining: 26.9s\n",
      "750:\tlearn: 0.4088148\ttotal: 1m 7s\tremaining: 22.4s\n",
      "800:\tlearn: 0.4082666\ttotal: 1m 11s\tremaining: 17.9s\n",
      "850:\tlearn: 0.4077103\ttotal: 1m 16s\tremaining: 13.3s\n",
      "900:\tlearn: 0.4071278\ttotal: 1m 20s\tremaining: 8.85s\n",
      "950:\tlearn: 0.4066014\ttotal: 1m 24s\tremaining: 4.38s\n",
      "999:\tlearn: 0.4060653\ttotal: 1m 29s\tremaining: 0us\n"
     ]
    },
    {
     "data": {
      "text/plain": [
       "<catboost.core.CatBoostClassifier at 0x2415b9fd908>"
      ]
     },
     "execution_count": 29,
     "metadata": {},
     "output_type": "execute_result"
    }
   ],
   "source": [
    "m2 =  CatBoostClassifier(\n",
    "                           custom_metric=['AUC'], \n",
    "                           learning_rate=0.16, \n",
    "                           n_estimators=1000, \n",
    "                           subsample=0.085, \n",
    "                           max_depth=5, \n",
    "                           scale_pos_weight=6.5,  \n",
    "                           verbose = False\n",
    "                          )\n",
    "m2.fit(x_train, y_train, \n",
    "          verbose=50\n",
    "         )"
   ]
  },
  {
   "cell_type": "code",
   "execution_count": 30,
   "metadata": {},
   "outputs": [],
   "source": [
    "f = pd.DataFrame(m2.predict_proba(test))\n",
    "f.drop(0,axis = 'columns', inplace = True)\n",
    "f.rename(columns = {1:'Re'},inplace = True)"
   ]
  },
  {
   "cell_type": "code",
   "execution_count": 31,
   "metadata": {},
   "outputs": [],
   "source": [
    "c =pd.DataFrame(m1.predict_proba(test)) \n",
    "c.drop(0,axis = 'columns', inplace = True)\n",
    "c.rename(columns = {1:'Res'},inplace = True)"
   ]
  },
  {
   "cell_type": "code",
   "execution_count": 44,
   "metadata": {},
   "outputs": [
    {
     "data": {
      "text/html": [
       "<div>\n",
       "<style scoped>\n",
       "    .dataframe tbody tr th:only-of-type {\n",
       "        vertical-align: middle;\n",
       "    }\n",
       "\n",
       "    .dataframe tbody tr th {\n",
       "        vertical-align: top;\n",
       "    }\n",
       "\n",
       "    .dataframe thead th {\n",
       "        text-align: right;\n",
       "    }\n",
       "</style>\n",
       "<table border=\"1\" class=\"dataframe\">\n",
       "  <thead>\n",
       "    <tr style=\"text-align: right;\">\n",
       "      <th></th>\n",
       "      <th>id</th>\n",
       "      <th>Response</th>\n",
       "    </tr>\n",
       "  </thead>\n",
       "  <tbody>\n",
       "    <tr>\n",
       "      <th>0</th>\n",
       "      <td>381110</td>\n",
       "      <td>0.001572</td>\n",
       "    </tr>\n",
       "    <tr>\n",
       "      <th>1</th>\n",
       "      <td>381111</td>\n",
       "      <td>0.338448</td>\n",
       "    </tr>\n",
       "    <tr>\n",
       "      <th>2</th>\n",
       "      <td>381112</td>\n",
       "      <td>0.299322</td>\n",
       "    </tr>\n",
       "    <tr>\n",
       "      <th>3</th>\n",
       "      <td>381113</td>\n",
       "      <td>0.007748</td>\n",
       "    </tr>\n",
       "    <tr>\n",
       "      <th>4</th>\n",
       "      <td>381114</td>\n",
       "      <td>0.001230</td>\n",
       "    </tr>\n",
       "    <tr>\n",
       "      <th>...</th>\n",
       "      <td>...</td>\n",
       "      <td>...</td>\n",
       "    </tr>\n",
       "    <tr>\n",
       "      <th>127032</th>\n",
       "      <td>508142</td>\n",
       "      <td>0.001278</td>\n",
       "    </tr>\n",
       "    <tr>\n",
       "      <th>127033</th>\n",
       "      <td>508143</td>\n",
       "      <td>0.373025</td>\n",
       "    </tr>\n",
       "    <tr>\n",
       "      <th>127034</th>\n",
       "      <td>508144</td>\n",
       "      <td>0.001056</td>\n",
       "    </tr>\n",
       "    <tr>\n",
       "      <th>127035</th>\n",
       "      <td>508145</td>\n",
       "      <td>0.001220</td>\n",
       "    </tr>\n",
       "    <tr>\n",
       "      <th>127036</th>\n",
       "      <td>508146</td>\n",
       "      <td>0.002001</td>\n",
       "    </tr>\n",
       "  </tbody>\n",
       "</table>\n",
       "<p>127037 rows × 2 columns</p>\n",
       "</div>"
      ],
      "text/plain": [
       "            id  Response\n",
       "0       381110  0.001572\n",
       "1       381111  0.338448\n",
       "2       381112  0.299322\n",
       "3       381113  0.007748\n",
       "4       381114  0.001230\n",
       "...        ...       ...\n",
       "127032  508142  0.001278\n",
       "127033  508143  0.373025\n",
       "127034  508144  0.001056\n",
       "127035  508145  0.001220\n",
       "127036  508146  0.002001\n",
       "\n",
       "[127037 rows x 2 columns]"
      ]
     },
     "execution_count": 44,
     "metadata": {},
     "output_type": "execute_result"
    }
   ],
   "source": [
    "sub = pd.concat([b, a, c,f], axis = 1)\n",
    "sub.head(10)\n",
    "sub['Response'] = 0.8*sub['Resp']+0.02*sub['Re'] + 0.18*sub['Res']\n",
    "sub.drop(['Resp','Re','Res'], axis = 'columns', inplace = True)\n",
    "sub"
   ]
  },
  {
   "cell_type": "code",
   "execution_count": 43,
   "metadata": {},
   "outputs": [],
   "source": [
    "sub.to_csv('C:\\\\Users\\\\Himanshu\\\\Downloads\\\\Cross_151.csv',index = None, header = True, encoding = 'UTF-8')"
   ]
  },
  {
   "cell_type": "code",
   "execution_count": null,
   "metadata": {},
   "outputs": [],
   "source": []
  }
 ],
 "metadata": {
  "kernelspec": {
   "display_name": "Python 3",
   "language": "python",
   "name": "python3"
  },
  "language_info": {
   "codemirror_mode": {
    "name": "ipython",
    "version": 3
   },
   "file_extension": ".py",
   "mimetype": "text/x-python",
   "name": "python",
   "nbconvert_exporter": "python",
   "pygments_lexer": "ipython3",
   "version": "3.7.6"
  }
 },
 "nbformat": 4,
 "nbformat_minor": 4
}
